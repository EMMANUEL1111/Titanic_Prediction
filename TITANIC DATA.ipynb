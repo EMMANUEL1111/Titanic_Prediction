{
 "cells": [
  {
   "cell_type": "code",
   "execution_count": 2,
   "metadata": {},
   "outputs": [],
   "source": [
    "\n",
    "from PIL import Image"
   ]
  },
  {
   "cell_type": "code",
   "execution_count": 3,
   "metadata": {},
   "outputs": [],
   "source": [
    "img=Image.open('plot4.png',r)"
   ]
  },
  {
   "cell_type": "code",
   "execution_count": 5,
   "metadata": {},
   "outputs": [],
   "source": [
    "import streamlit as st"
   ]
  },
  {
   "cell_type": "code",
   "execution_count": 7,
   "metadata": {},
   "outputs": [
    {
     "data": {
      "text/plain": [
       "DeltaGenerator(_root_container=0, _provided_cursor=None, _parent=None, _block_type=None, _form_data=None)"
      ]
     },
     "execution_count": 7,
     "metadata": {},
     "output_type": "execute_result"
    }
   ],
   "source": [
    "st.image(img,)"
   ]
  },
  {
   "cell_type": "code",
   "execution_count": 8,
   "metadata": {},
   "outputs": [],
   "source": [
    "import pandas as pd \n",
    "import numpy as np\n",
    "import seaborn as sns\n",
    "import pylab as py"
   ]
  },
  {
   "cell_type": "code",
   "execution_count": 9,
   "metadata": {},
   "outputs": [],
   "source": [
    "data=pd.read_csv('titanic_train.csv')"
   ]
  },
  {
   "cell_type": "code",
   "execution_count": 10,
   "metadata": {},
   "outputs": [
    {
     "data": {
      "text/html": [
       "<div>\n",
       "<style scoped>\n",
       "    .dataframe tbody tr th:only-of-type {\n",
       "        vertical-align: middle;\n",
       "    }\n",
       "\n",
       "    .dataframe tbody tr th {\n",
       "        vertical-align: top;\n",
       "    }\n",
       "\n",
       "    .dataframe thead th {\n",
       "        text-align: right;\n",
       "    }\n",
       "</style>\n",
       "<table border=\"1\" class=\"dataframe\">\n",
       "  <thead>\n",
       "    <tr style=\"text-align: right;\">\n",
       "      <th></th>\n",
       "      <th>PassengerId</th>\n",
       "      <th>Survived</th>\n",
       "      <th>Pclass</th>\n",
       "      <th>Name</th>\n",
       "      <th>Sex</th>\n",
       "      <th>Age</th>\n",
       "      <th>SibSp</th>\n",
       "      <th>Parch</th>\n",
       "      <th>Ticket</th>\n",
       "      <th>Fare</th>\n",
       "      <th>Cabin</th>\n",
       "      <th>Embarked</th>\n",
       "    </tr>\n",
       "  </thead>\n",
       "  <tbody>\n",
       "    <tr>\n",
       "      <th>0</th>\n",
       "      <td>1</td>\n",
       "      <td>0</td>\n",
       "      <td>3</td>\n",
       "      <td>Braund, Mr. Owen Harris</td>\n",
       "      <td>male</td>\n",
       "      <td>22.0</td>\n",
       "      <td>1</td>\n",
       "      <td>0</td>\n",
       "      <td>A/5 21171</td>\n",
       "      <td>7.2500</td>\n",
       "      <td>NaN</td>\n",
       "      <td>S</td>\n",
       "    </tr>\n",
       "    <tr>\n",
       "      <th>1</th>\n",
       "      <td>2</td>\n",
       "      <td>1</td>\n",
       "      <td>1</td>\n",
       "      <td>Cumings, Mrs. John Bradley (Florence Briggs Th...</td>\n",
       "      <td>female</td>\n",
       "      <td>38.0</td>\n",
       "      <td>1</td>\n",
       "      <td>0</td>\n",
       "      <td>PC 17599</td>\n",
       "      <td>71.2833</td>\n",
       "      <td>C85</td>\n",
       "      <td>C</td>\n",
       "    </tr>\n",
       "    <tr>\n",
       "      <th>2</th>\n",
       "      <td>3</td>\n",
       "      <td>1</td>\n",
       "      <td>3</td>\n",
       "      <td>Heikkinen, Miss. Laina</td>\n",
       "      <td>female</td>\n",
       "      <td>26.0</td>\n",
       "      <td>0</td>\n",
       "      <td>0</td>\n",
       "      <td>STON/O2. 3101282</td>\n",
       "      <td>7.9250</td>\n",
       "      <td>NaN</td>\n",
       "      <td>S</td>\n",
       "    </tr>\n",
       "    <tr>\n",
       "      <th>3</th>\n",
       "      <td>4</td>\n",
       "      <td>1</td>\n",
       "      <td>1</td>\n",
       "      <td>Futrelle, Mrs. Jacques Heath (Lily May Peel)</td>\n",
       "      <td>female</td>\n",
       "      <td>35.0</td>\n",
       "      <td>1</td>\n",
       "      <td>0</td>\n",
       "      <td>113803</td>\n",
       "      <td>53.1000</td>\n",
       "      <td>C123</td>\n",
       "      <td>S</td>\n",
       "    </tr>\n",
       "    <tr>\n",
       "      <th>4</th>\n",
       "      <td>5</td>\n",
       "      <td>0</td>\n",
       "      <td>3</td>\n",
       "      <td>Allen, Mr. William Henry</td>\n",
       "      <td>male</td>\n",
       "      <td>35.0</td>\n",
       "      <td>0</td>\n",
       "      <td>0</td>\n",
       "      <td>373450</td>\n",
       "      <td>8.0500</td>\n",
       "      <td>NaN</td>\n",
       "      <td>S</td>\n",
       "    </tr>\n",
       "  </tbody>\n",
       "</table>\n",
       "</div>"
      ],
      "text/plain": [
       "   PassengerId  Survived  Pclass  \\\n",
       "0            1         0       3   \n",
       "1            2         1       1   \n",
       "2            3         1       3   \n",
       "3            4         1       1   \n",
       "4            5         0       3   \n",
       "\n",
       "                                                Name     Sex   Age  SibSp  \\\n",
       "0                            Braund, Mr. Owen Harris    male  22.0      1   \n",
       "1  Cumings, Mrs. John Bradley (Florence Briggs Th...  female  38.0      1   \n",
       "2                             Heikkinen, Miss. Laina  female  26.0      0   \n",
       "3       Futrelle, Mrs. Jacques Heath (Lily May Peel)  female  35.0      1   \n",
       "4                           Allen, Mr. William Henry    male  35.0      0   \n",
       "\n",
       "   Parch            Ticket     Fare Cabin Embarked  \n",
       "0      0         A/5 21171   7.2500   NaN        S  \n",
       "1      0          PC 17599  71.2833   C85        C  \n",
       "2      0  STON/O2. 3101282   7.9250   NaN        S  \n",
       "3      0            113803  53.1000  C123        S  \n",
       "4      0            373450   8.0500   NaN        S  "
      ]
     },
     "execution_count": 10,
     "metadata": {},
     "output_type": "execute_result"
    }
   ],
   "source": [
    "data.head()"
   ]
  },
  {
   "cell_type": "code",
   "execution_count": 11,
   "metadata": {},
   "outputs": [],
   "source": [
    "data_x=data.drop(['Survived','Ticket','Cabin','Name'],axis=1)"
   ]
  },
  {
   "cell_type": "code",
   "execution_count": 12,
   "metadata": {},
   "outputs": [
    {
     "data": {
      "text/html": [
       "<div>\n",
       "<style scoped>\n",
       "    .dataframe tbody tr th:only-of-type {\n",
       "        vertical-align: middle;\n",
       "    }\n",
       "\n",
       "    .dataframe tbody tr th {\n",
       "        vertical-align: top;\n",
       "    }\n",
       "\n",
       "    .dataframe thead th {\n",
       "        text-align: right;\n",
       "    }\n",
       "</style>\n",
       "<table border=\"1\" class=\"dataframe\">\n",
       "  <thead>\n",
       "    <tr style=\"text-align: right;\">\n",
       "      <th></th>\n",
       "      <th>PassengerId</th>\n",
       "      <th>Pclass</th>\n",
       "      <th>Sex</th>\n",
       "      <th>Age</th>\n",
       "      <th>SibSp</th>\n",
       "      <th>Parch</th>\n",
       "      <th>Fare</th>\n",
       "      <th>Embarked</th>\n",
       "    </tr>\n",
       "  </thead>\n",
       "  <tbody>\n",
       "    <tr>\n",
       "      <th>0</th>\n",
       "      <td>1</td>\n",
       "      <td>3</td>\n",
       "      <td>male</td>\n",
       "      <td>22.0</td>\n",
       "      <td>1</td>\n",
       "      <td>0</td>\n",
       "      <td>7.2500</td>\n",
       "      <td>S</td>\n",
       "    </tr>\n",
       "    <tr>\n",
       "      <th>1</th>\n",
       "      <td>2</td>\n",
       "      <td>1</td>\n",
       "      <td>female</td>\n",
       "      <td>38.0</td>\n",
       "      <td>1</td>\n",
       "      <td>0</td>\n",
       "      <td>71.2833</td>\n",
       "      <td>C</td>\n",
       "    </tr>\n",
       "    <tr>\n",
       "      <th>2</th>\n",
       "      <td>3</td>\n",
       "      <td>3</td>\n",
       "      <td>female</td>\n",
       "      <td>26.0</td>\n",
       "      <td>0</td>\n",
       "      <td>0</td>\n",
       "      <td>7.9250</td>\n",
       "      <td>S</td>\n",
       "    </tr>\n",
       "    <tr>\n",
       "      <th>3</th>\n",
       "      <td>4</td>\n",
       "      <td>1</td>\n",
       "      <td>female</td>\n",
       "      <td>35.0</td>\n",
       "      <td>1</td>\n",
       "      <td>0</td>\n",
       "      <td>53.1000</td>\n",
       "      <td>S</td>\n",
       "    </tr>\n",
       "    <tr>\n",
       "      <th>4</th>\n",
       "      <td>5</td>\n",
       "      <td>3</td>\n",
       "      <td>male</td>\n",
       "      <td>35.0</td>\n",
       "      <td>0</td>\n",
       "      <td>0</td>\n",
       "      <td>8.0500</td>\n",
       "      <td>S</td>\n",
       "    </tr>\n",
       "  </tbody>\n",
       "</table>\n",
       "</div>"
      ],
      "text/plain": [
       "   PassengerId  Pclass     Sex   Age  SibSp  Parch     Fare Embarked\n",
       "0            1       3    male  22.0      1      0   7.2500        S\n",
       "1            2       1  female  38.0      1      0  71.2833        C\n",
       "2            3       3  female  26.0      0      0   7.9250        S\n",
       "3            4       1  female  35.0      1      0  53.1000        S\n",
       "4            5       3    male  35.0      0      0   8.0500        S"
      ]
     },
     "execution_count": 12,
     "metadata": {},
     "output_type": "execute_result"
    }
   ],
   "source": [
    "data_x.head()"
   ]
  },
  {
   "cell_type": "code",
   "execution_count": 13,
   "metadata": {},
   "outputs": [
    {
     "data": {
      "text/plain": [
       "S    644\n",
       "C    168\n",
       "Q     77\n",
       "Name: Embarked, dtype: int64"
      ]
     },
     "execution_count": 13,
     "metadata": {},
     "output_type": "execute_result"
    }
   ],
   "source": [
    "data_x['Embarked'].value_counts()"
   ]
  },
  {
   "cell_type": "code",
   "execution_count": 14,
   "metadata": {},
   "outputs": [],
   "source": [
    "data_x.drop('PassengerId',axis=1,inplace=True)"
   ]
  },
  {
   "cell_type": "code",
   "execution_count": 15,
   "metadata": {},
   "outputs": [
    {
     "data": {
      "text/html": [
       "<div>\n",
       "<style scoped>\n",
       "    .dataframe tbody tr th:only-of-type {\n",
       "        vertical-align: middle;\n",
       "    }\n",
       "\n",
       "    .dataframe tbody tr th {\n",
       "        vertical-align: top;\n",
       "    }\n",
       "\n",
       "    .dataframe thead th {\n",
       "        text-align: right;\n",
       "    }\n",
       "</style>\n",
       "<table border=\"1\" class=\"dataframe\">\n",
       "  <thead>\n",
       "    <tr style=\"text-align: right;\">\n",
       "      <th></th>\n",
       "      <th>Pclass</th>\n",
       "      <th>Sex</th>\n",
       "      <th>Age</th>\n",
       "      <th>SibSp</th>\n",
       "      <th>Parch</th>\n",
       "      <th>Fare</th>\n",
       "      <th>Embarked</th>\n",
       "    </tr>\n",
       "  </thead>\n",
       "  <tbody>\n",
       "    <tr>\n",
       "      <th>0</th>\n",
       "      <td>3</td>\n",
       "      <td>male</td>\n",
       "      <td>22.0</td>\n",
       "      <td>1</td>\n",
       "      <td>0</td>\n",
       "      <td>7.2500</td>\n",
       "      <td>S</td>\n",
       "    </tr>\n",
       "    <tr>\n",
       "      <th>1</th>\n",
       "      <td>1</td>\n",
       "      <td>female</td>\n",
       "      <td>38.0</td>\n",
       "      <td>1</td>\n",
       "      <td>0</td>\n",
       "      <td>71.2833</td>\n",
       "      <td>C</td>\n",
       "    </tr>\n",
       "    <tr>\n",
       "      <th>2</th>\n",
       "      <td>3</td>\n",
       "      <td>female</td>\n",
       "      <td>26.0</td>\n",
       "      <td>0</td>\n",
       "      <td>0</td>\n",
       "      <td>7.9250</td>\n",
       "      <td>S</td>\n",
       "    </tr>\n",
       "    <tr>\n",
       "      <th>3</th>\n",
       "      <td>1</td>\n",
       "      <td>female</td>\n",
       "      <td>35.0</td>\n",
       "      <td>1</td>\n",
       "      <td>0</td>\n",
       "      <td>53.1000</td>\n",
       "      <td>S</td>\n",
       "    </tr>\n",
       "    <tr>\n",
       "      <th>4</th>\n",
       "      <td>3</td>\n",
       "      <td>male</td>\n",
       "      <td>35.0</td>\n",
       "      <td>0</td>\n",
       "      <td>0</td>\n",
       "      <td>8.0500</td>\n",
       "      <td>S</td>\n",
       "    </tr>\n",
       "  </tbody>\n",
       "</table>\n",
       "</div>"
      ],
      "text/plain": [
       "   Pclass     Sex   Age  SibSp  Parch     Fare Embarked\n",
       "0       3    male  22.0      1      0   7.2500        S\n",
       "1       1  female  38.0      1      0  71.2833        C\n",
       "2       3  female  26.0      0      0   7.9250        S\n",
       "3       1  female  35.0      1      0  53.1000        S\n",
       "4       3    male  35.0      0      0   8.0500        S"
      ]
     },
     "execution_count": 15,
     "metadata": {},
     "output_type": "execute_result"
    }
   ],
   "source": [
    "data_x.head()"
   ]
  },
  {
   "cell_type": "code",
   "execution_count": 16,
   "metadata": {},
   "outputs": [],
   "source": [
    "def sex(col):\n",
    "    if col =='male':\n",
    "        return 1\n",
    "    else:\n",
    "        return 0"
   ]
  },
  {
   "cell_type": "code",
   "execution_count": 17,
   "metadata": {},
   "outputs": [],
   "source": [
    "data_x['Sex']=data_x['Sex'].apply(sex)"
   ]
  },
  {
   "cell_type": "code",
   "execution_count": 18,
   "metadata": {},
   "outputs": [
    {
     "data": {
      "text/html": [
       "<div>\n",
       "<style scoped>\n",
       "    .dataframe tbody tr th:only-of-type {\n",
       "        vertical-align: middle;\n",
       "    }\n",
       "\n",
       "    .dataframe tbody tr th {\n",
       "        vertical-align: top;\n",
       "    }\n",
       "\n",
       "    .dataframe thead th {\n",
       "        text-align: right;\n",
       "    }\n",
       "</style>\n",
       "<table border=\"1\" class=\"dataframe\">\n",
       "  <thead>\n",
       "    <tr style=\"text-align: right;\">\n",
       "      <th></th>\n",
       "      <th>Pclass</th>\n",
       "      <th>Sex</th>\n",
       "      <th>Age</th>\n",
       "      <th>SibSp</th>\n",
       "      <th>Parch</th>\n",
       "      <th>Fare</th>\n",
       "      <th>Embarked</th>\n",
       "    </tr>\n",
       "  </thead>\n",
       "  <tbody>\n",
       "    <tr>\n",
       "      <th>0</th>\n",
       "      <td>3</td>\n",
       "      <td>1</td>\n",
       "      <td>22.0</td>\n",
       "      <td>1</td>\n",
       "      <td>0</td>\n",
       "      <td>7.2500</td>\n",
       "      <td>S</td>\n",
       "    </tr>\n",
       "    <tr>\n",
       "      <th>1</th>\n",
       "      <td>1</td>\n",
       "      <td>0</td>\n",
       "      <td>38.0</td>\n",
       "      <td>1</td>\n",
       "      <td>0</td>\n",
       "      <td>71.2833</td>\n",
       "      <td>C</td>\n",
       "    </tr>\n",
       "    <tr>\n",
       "      <th>2</th>\n",
       "      <td>3</td>\n",
       "      <td>0</td>\n",
       "      <td>26.0</td>\n",
       "      <td>0</td>\n",
       "      <td>0</td>\n",
       "      <td>7.9250</td>\n",
       "      <td>S</td>\n",
       "    </tr>\n",
       "    <tr>\n",
       "      <th>3</th>\n",
       "      <td>1</td>\n",
       "      <td>0</td>\n",
       "      <td>35.0</td>\n",
       "      <td>1</td>\n",
       "      <td>0</td>\n",
       "      <td>53.1000</td>\n",
       "      <td>S</td>\n",
       "    </tr>\n",
       "    <tr>\n",
       "      <th>4</th>\n",
       "      <td>3</td>\n",
       "      <td>1</td>\n",
       "      <td>35.0</td>\n",
       "      <td>0</td>\n",
       "      <td>0</td>\n",
       "      <td>8.0500</td>\n",
       "      <td>S</td>\n",
       "    </tr>\n",
       "    <tr>\n",
       "      <th>...</th>\n",
       "      <td>...</td>\n",
       "      <td>...</td>\n",
       "      <td>...</td>\n",
       "      <td>...</td>\n",
       "      <td>...</td>\n",
       "      <td>...</td>\n",
       "      <td>...</td>\n",
       "    </tr>\n",
       "    <tr>\n",
       "      <th>886</th>\n",
       "      <td>2</td>\n",
       "      <td>1</td>\n",
       "      <td>27.0</td>\n",
       "      <td>0</td>\n",
       "      <td>0</td>\n",
       "      <td>13.0000</td>\n",
       "      <td>S</td>\n",
       "    </tr>\n",
       "    <tr>\n",
       "      <th>887</th>\n",
       "      <td>1</td>\n",
       "      <td>0</td>\n",
       "      <td>19.0</td>\n",
       "      <td>0</td>\n",
       "      <td>0</td>\n",
       "      <td>30.0000</td>\n",
       "      <td>S</td>\n",
       "    </tr>\n",
       "    <tr>\n",
       "      <th>888</th>\n",
       "      <td>3</td>\n",
       "      <td>0</td>\n",
       "      <td>NaN</td>\n",
       "      <td>1</td>\n",
       "      <td>2</td>\n",
       "      <td>23.4500</td>\n",
       "      <td>S</td>\n",
       "    </tr>\n",
       "    <tr>\n",
       "      <th>889</th>\n",
       "      <td>1</td>\n",
       "      <td>1</td>\n",
       "      <td>26.0</td>\n",
       "      <td>0</td>\n",
       "      <td>0</td>\n",
       "      <td>30.0000</td>\n",
       "      <td>C</td>\n",
       "    </tr>\n",
       "    <tr>\n",
       "      <th>890</th>\n",
       "      <td>3</td>\n",
       "      <td>1</td>\n",
       "      <td>32.0</td>\n",
       "      <td>0</td>\n",
       "      <td>0</td>\n",
       "      <td>7.7500</td>\n",
       "      <td>Q</td>\n",
       "    </tr>\n",
       "  </tbody>\n",
       "</table>\n",
       "<p>891 rows × 7 columns</p>\n",
       "</div>"
      ],
      "text/plain": [
       "     Pclass  Sex   Age  SibSp  Parch     Fare Embarked\n",
       "0         3    1  22.0      1      0   7.2500        S\n",
       "1         1    0  38.0      1      0  71.2833        C\n",
       "2         3    0  26.0      0      0   7.9250        S\n",
       "3         1    0  35.0      1      0  53.1000        S\n",
       "4         3    1  35.0      0      0   8.0500        S\n",
       "..      ...  ...   ...    ...    ...      ...      ...\n",
       "886       2    1  27.0      0      0  13.0000        S\n",
       "887       1    0  19.0      0      0  30.0000        S\n",
       "888       3    0   NaN      1      2  23.4500        S\n",
       "889       1    1  26.0      0      0  30.0000        C\n",
       "890       3    1  32.0      0      0   7.7500        Q\n",
       "\n",
       "[891 rows x 7 columns]"
      ]
     },
     "execution_count": 18,
     "metadata": {},
     "output_type": "execute_result"
    }
   ],
   "source": [
    "data_x"
   ]
  },
  {
   "cell_type": "code",
   "execution_count": 20,
   "metadata": {},
   "outputs": [],
   "source": [
    "sns.set(style='darkgrid')"
   ]
  },
  {
   "cell_type": "code",
   "execution_count": 21,
   "metadata": {},
   "outputs": [
    {
     "data": {
      "text/plain": [
       "<AxesSubplot:>"
      ]
     },
     "execution_count": 21,
     "metadata": {},
     "output_type": "execute_result"
    },
    {
     "data": {
      "image/png": "[encoded data removed]",
      "text/plain": [
       "<Figure size 720x576 with 2 Axes>"
      ]
     },
     "metadata": {},
     "output_type": "display_data"
    }
   ],
   "source": [
    "fig=py.figure(figsize=(10,8))\n",
    "sns.heatmap(data_x.isnull(),yticklabels=False)"
   ]
  },
  {
   "cell_type": "code",
   "execution_count": 22,
   "metadata": {},
   "outputs": [
    {
     "data": {
      "text/html": [
       "<div>\n",
       "<style scoped>\n",
       "    .dataframe tbody tr th:only-of-type {\n",
       "        vertical-align: middle;\n",
       "    }\n",
       "\n",
       "    .dataframe tbody tr th {\n",
       "        vertical-align: top;\n",
       "    }\n",
       "\n",
       "    .dataframe thead th {\n",
       "        text-align: right;\n",
       "    }\n",
       "</style>\n",
       "<table border=\"1\" class=\"dataframe\">\n",
       "  <thead>\n",
       "    <tr style=\"text-align: right;\">\n",
       "      <th></th>\n",
       "      <th>Pclass</th>\n",
       "      <th>Sex</th>\n",
       "      <th>Age</th>\n",
       "      <th>SibSp</th>\n",
       "      <th>Parch</th>\n",
       "      <th>Fare</th>\n",
       "      <th>Embarked</th>\n",
       "    </tr>\n",
       "  </thead>\n",
       "  <tbody>\n",
       "    <tr>\n",
       "      <th>0</th>\n",
       "      <td>3</td>\n",
       "      <td>1</td>\n",
       "      <td>22.0</td>\n",
       "      <td>1</td>\n",
       "      <td>0</td>\n",
       "      <td>7.2500</td>\n",
       "      <td>S</td>\n",
       "    </tr>\n",
       "    <tr>\n",
       "      <th>1</th>\n",
       "      <td>1</td>\n",
       "      <td>0</td>\n",
       "      <td>38.0</td>\n",
       "      <td>1</td>\n",
       "      <td>0</td>\n",
       "      <td>71.2833</td>\n",
       "      <td>C</td>\n",
       "    </tr>\n",
       "    <tr>\n",
       "      <th>2</th>\n",
       "      <td>3</td>\n",
       "      <td>0</td>\n",
       "      <td>26.0</td>\n",
       "      <td>0</td>\n",
       "      <td>0</td>\n",
       "      <td>7.9250</td>\n",
       "      <td>S</td>\n",
       "    </tr>\n",
       "    <tr>\n",
       "      <th>3</th>\n",
       "      <td>1</td>\n",
       "      <td>0</td>\n",
       "      <td>35.0</td>\n",
       "      <td>1</td>\n",
       "      <td>0</td>\n",
       "      <td>53.1000</td>\n",
       "      <td>S</td>\n",
       "    </tr>\n",
       "    <tr>\n",
       "      <th>4</th>\n",
       "      <td>3</td>\n",
       "      <td>1</td>\n",
       "      <td>35.0</td>\n",
       "      <td>0</td>\n",
       "      <td>0</td>\n",
       "      <td>8.0500</td>\n",
       "      <td>S</td>\n",
       "    </tr>\n",
       "  </tbody>\n",
       "</table>\n",
       "</div>"
      ],
      "text/plain": [
       "   Pclass  Sex   Age  SibSp  Parch     Fare Embarked\n",
       "0       3    1  22.0      1      0   7.2500        S\n",
       "1       1    0  38.0      1      0  71.2833        C\n",
       "2       3    0  26.0      0      0   7.9250        S\n",
       "3       1    0  35.0      1      0  53.1000        S\n",
       "4       3    1  35.0      0      0   8.0500        S"
      ]
     },
     "execution_count": 22,
     "metadata": {},
     "output_type": "execute_result"
    }
   ],
   "source": [
    "data_x.head()"
   ]
  },
  {
   "cell_type": "code",
   "execution_count": 36,
   "metadata": {},
   "outputs": [],
   "source": [
    "def age(col):\n",
    "    Age=col[0]\n",
    "    Pclass=col[1]\n",
    "    if pd.isnull(Age):\n",
    "        if Pclass==1:\n",
    "            return np.round(data_x.groupby('Pclass').mean()['Age'][1],1)\n",
    "        elif Pclass==2:\n",
    "            return np.round(data_x.groupby('Pclass').mean()['Age'][2],1)\n",
    "        else:\n",
    "            return np.round(data_x.groupby('Pclass').mean()['Age'][1],1)\n",
    "    else:\n",
    "        return Age"
   ]
  },
  {
   "cell_type": "code",
   "execution_count": 91,
   "metadata": {},
   "outputs": [],
   "source": [
    "data_x['Age']=data_x[['Age','Pclass']].apply(age,axis=1)"
   ]
  },
  {
   "cell_type": "code",
   "execution_count": 92,
   "metadata": {},
   "outputs": [
    {
     "data": {
      "text/html": [
       "<div>\n",
       "<style scoped>\n",
       "    .dataframe tbody tr th:only-of-type {\n",
       "        vertical-align: middle;\n",
       "    }\n",
       "\n",
       "    .dataframe tbody tr th {\n",
       "        vertical-align: top;\n",
       "    }\n",
       "\n",
       "    .dataframe thead th {\n",
       "        text-align: right;\n",
       "    }\n",
       "</style>\n",
       "<table border=\"1\" class=\"dataframe\">\n",
       "  <thead>\n",
       "    <tr style=\"text-align: right;\">\n",
       "      <th></th>\n",
       "      <th>Pclass</th>\n",
       "      <th>Sex</th>\n",
       "      <th>Age</th>\n",
       "      <th>SibSp</th>\n",
       "      <th>Parch</th>\n",
       "      <th>Fare</th>\n",
       "      <th>Embarked</th>\n",
       "      <th>(Age,)</th>\n",
       "    </tr>\n",
       "  </thead>\n",
       "  <tbody>\n",
       "    <tr>\n",
       "      <th>0</th>\n",
       "      <td>3</td>\n",
       "      <td>1</td>\n",
       "      <td>22.0</td>\n",
       "      <td>1</td>\n",
       "      <td>0</td>\n",
       "      <td>7.2500</td>\n",
       "      <td>S</td>\n",
       "      <td>22.0</td>\n",
       "    </tr>\n",
       "    <tr>\n",
       "      <th>1</th>\n",
       "      <td>1</td>\n",
       "      <td>0</td>\n",
       "      <td>38.0</td>\n",
       "      <td>1</td>\n",
       "      <td>0</td>\n",
       "      <td>71.2833</td>\n",
       "      <td>C</td>\n",
       "      <td>38.0</td>\n",
       "    </tr>\n",
       "    <tr>\n",
       "      <th>2</th>\n",
       "      <td>3</td>\n",
       "      <td>0</td>\n",
       "      <td>26.0</td>\n",
       "      <td>0</td>\n",
       "      <td>0</td>\n",
       "      <td>7.9250</td>\n",
       "      <td>S</td>\n",
       "      <td>26.0</td>\n",
       "    </tr>\n",
       "    <tr>\n",
       "      <th>3</th>\n",
       "      <td>1</td>\n",
       "      <td>0</td>\n",
       "      <td>35.0</td>\n",
       "      <td>1</td>\n",
       "      <td>0</td>\n",
       "      <td>53.1000</td>\n",
       "      <td>S</td>\n",
       "      <td>35.0</td>\n",
       "    </tr>\n",
       "    <tr>\n",
       "      <th>4</th>\n",
       "      <td>3</td>\n",
       "      <td>1</td>\n",
       "      <td>35.0</td>\n",
       "      <td>0</td>\n",
       "      <td>0</td>\n",
       "      <td>8.0500</td>\n",
       "      <td>S</td>\n",
       "      <td>35.0</td>\n",
       "    </tr>\n",
       "  </tbody>\n",
       "</table>\n",
       "</div>"
      ],
      "text/plain": [
       "   Pclass  Sex   Age  SibSp  Parch     Fare Embarked  (Age,)\n",
       "0       3    1  22.0      1      0   7.2500        S    22.0\n",
       "1       1    0  38.0      1      0  71.2833        C    38.0\n",
       "2       3    0  26.0      0      0   7.9250        S    26.0\n",
       "3       1    0  35.0      1      0  53.1000        S    35.0\n",
       "4       3    1  35.0      0      0   8.0500        S    35.0"
      ]
     },
     "execution_count": 92,
     "metadata": {},
     "output_type": "execute_result"
    }
   ],
   "source": [
    "data_x.head()"
   ]
  },
  {
   "cell_type": "code",
   "execution_count": 95,
   "metadata": {},
   "outputs": [
    {
     "data": {
      "text/plain": [
       "Index(['Pclass', 'Sex', 'Age', 'SibSp', 'Parch', 'Fare', 'Embarked', ('Age',)], dtype='object')"
      ]
     },
     "execution_count": 95,
     "metadata": {},
     "output_type": "execute_result"
    }
   ],
   "source": [
    "data_x.columns"
   ]
  },
  {
   "cell_type": "code",
   "execution_count": 98,
   "metadata": {},
   "outputs": [],
   "source": [
    "data_x['Age']=data_x[('Age',)]"
   ]
  },
  {
   "cell_type": "code",
   "execution_count": 100,
   "metadata": {},
   "outputs": [
    {
     "data": {
      "text/plain": [
       "<AxesSubplot:>"
      ]
     },
     "execution_count": 100,
     "metadata": {},
     "output_type": "execute_result"
    },
    {
     "data": {
      "image/png": "[encoded data removed]",
      "text/plain": [
       "<Figure size 720x576 with 2 Axes>"
      ]
     },
     "metadata": {},
     "output_type": "display_data"
    }
   ],
   "source": [
    "data_x.head()\n",
    "fig=py.figure(figsize=(10,8))\n",
    "sns.heatmap(data_x.isnull(),yticklabels=False)"
   ]
  },
  {
   "cell_type": "code",
   "execution_count": 37,
   "metadata": {},
   "outputs": [
    {
     "data": {
      "text/plain": [
       "<AxesSubplot:xlabel='Pclass', ylabel='Age'>"
      ]
     },
     "execution_count": 37,
     "metadata": {},
     "output_type": "execute_result"
    },
    {
     "data": {
      "image/png": "[encoded data removed]",
      "text/plain": [
       "<Figure size 720x576 with 1 Axes>"
      ]
     },
     "metadata": {},
     "output_type": "display_data"
    }
   ],
   "source": [
    "fig=py.figure(figsize=(10,8))\n",
    "sns.boxplot(x='Pclass',y='Age',data=data_x)"
   ]
  },
  {
   "cell_type": "code",
   "execution_count": 101,
   "metadata": {},
   "outputs": [
    {
     "data": {
      "text/html": [
       "<div>\n",
       "<style scoped>\n",
       "    .dataframe tbody tr th:only-of-type {\n",
       "        vertical-align: middle;\n",
       "    }\n",
       "\n",
       "    .dataframe tbody tr th {\n",
       "        vertical-align: top;\n",
       "    }\n",
       "\n",
       "    .dataframe thead th {\n",
       "        text-align: right;\n",
       "    }\n",
       "</style>\n",
       "<table border=\"1\" class=\"dataframe\">\n",
       "  <thead>\n",
       "    <tr style=\"text-align: right;\">\n",
       "      <th></th>\n",
       "      <th>Pclass</th>\n",
       "      <th>Sex</th>\n",
       "      <th>Age</th>\n",
       "      <th>SibSp</th>\n",
       "      <th>Parch</th>\n",
       "      <th>Fare</th>\n",
       "      <th>Embarked</th>\n",
       "      <th>(Age,)</th>\n",
       "    </tr>\n",
       "  </thead>\n",
       "  <tbody>\n",
       "    <tr>\n",
       "      <th>0</th>\n",
       "      <td>3</td>\n",
       "      <td>1</td>\n",
       "      <td>22.0</td>\n",
       "      <td>1</td>\n",
       "      <td>0</td>\n",
       "      <td>7.2500</td>\n",
       "      <td>S</td>\n",
       "      <td>22.0</td>\n",
       "    </tr>\n",
       "    <tr>\n",
       "      <th>1</th>\n",
       "      <td>1</td>\n",
       "      <td>0</td>\n",
       "      <td>38.0</td>\n",
       "      <td>1</td>\n",
       "      <td>0</td>\n",
       "      <td>71.2833</td>\n",
       "      <td>C</td>\n",
       "      <td>38.0</td>\n",
       "    </tr>\n",
       "    <tr>\n",
       "      <th>2</th>\n",
       "      <td>3</td>\n",
       "      <td>0</td>\n",
       "      <td>26.0</td>\n",
       "      <td>0</td>\n",
       "      <td>0</td>\n",
       "      <td>7.9250</td>\n",
       "      <td>S</td>\n",
       "      <td>26.0</td>\n",
       "    </tr>\n",
       "    <tr>\n",
       "      <th>3</th>\n",
       "      <td>1</td>\n",
       "      <td>0</td>\n",
       "      <td>35.0</td>\n",
       "      <td>1</td>\n",
       "      <td>0</td>\n",
       "      <td>53.1000</td>\n",
       "      <td>S</td>\n",
       "      <td>35.0</td>\n",
       "    </tr>\n",
       "    <tr>\n",
       "      <th>4</th>\n",
       "      <td>3</td>\n",
       "      <td>1</td>\n",
       "      <td>35.0</td>\n",
       "      <td>0</td>\n",
       "      <td>0</td>\n",
       "      <td>8.0500</td>\n",
       "      <td>S</td>\n",
       "      <td>35.0</td>\n",
       "    </tr>\n",
       "  </tbody>\n",
       "</table>\n",
       "</div>"
      ],
      "text/plain": [
       "   Pclass  Sex   Age  SibSp  Parch     Fare Embarked  (Age,)\n",
       "0       3    1  22.0      1      0   7.2500        S    22.0\n",
       "1       1    0  38.0      1      0  71.2833        C    38.0\n",
       "2       3    0  26.0      0      0   7.9250        S    26.0\n",
       "3       1    0  35.0      1      0  53.1000        S    35.0\n",
       "4       3    1  35.0      0      0   8.0500        S    35.0"
      ]
     },
     "execution_count": 101,
     "metadata": {},
     "output_type": "execute_result"
    }
   ],
   "source": [
    "data_x.head()"
   ]
  },
  {
   "cell_type": "code",
   "execution_count": 35,
   "metadata": {},
   "outputs": [
    {
     "data": {
      "text/plain": [
       "38.2"
      ]
     },
     "execution_count": 35,
     "metadata": {},
     "output_type": "execute_result"
    }
   ],
   "source": [
    "np.round(data_x.groupby('Pclass').mean()['Age'][1],1)"
   ]
  },
  {
   "cell_type": "code",
   "execution_count": 38,
   "metadata": {},
   "outputs": [
    {
     "data": {
      "text/html": [
       "<div>\n",
       "<style scoped>\n",
       "    .dataframe tbody tr th:only-of-type {\n",
       "        vertical-align: middle;\n",
       "    }\n",
       "\n",
       "    .dataframe tbody tr th {\n",
       "        vertical-align: top;\n",
       "    }\n",
       "\n",
       "    .dataframe thead th {\n",
       "        text-align: right;\n",
       "    }\n",
       "</style>\n",
       "<table border=\"1\" class=\"dataframe\">\n",
       "  <thead>\n",
       "    <tr style=\"text-align: right;\">\n",
       "      <th></th>\n",
       "      <th>PassengerId</th>\n",
       "      <th>Survived</th>\n",
       "      <th>Pclass</th>\n",
       "      <th>Name</th>\n",
       "      <th>Sex</th>\n",
       "      <th>Age</th>\n",
       "      <th>SibSp</th>\n",
       "      <th>Parch</th>\n",
       "      <th>Ticket</th>\n",
       "      <th>Fare</th>\n",
       "      <th>Cabin</th>\n",
       "      <th>Embarked</th>\n",
       "    </tr>\n",
       "  </thead>\n",
       "  <tbody>\n",
       "    <tr>\n",
       "      <th>0</th>\n",
       "      <td>1</td>\n",
       "      <td>0</td>\n",
       "      <td>3</td>\n",
       "      <td>Braund, Mr. Owen Harris</td>\n",
       "      <td>male</td>\n",
       "      <td>22.0</td>\n",
       "      <td>1</td>\n",
       "      <td>0</td>\n",
       "      <td>A/5 21171</td>\n",
       "      <td>7.2500</td>\n",
       "      <td>NaN</td>\n",
       "      <td>S</td>\n",
       "    </tr>\n",
       "    <tr>\n",
       "      <th>1</th>\n",
       "      <td>2</td>\n",
       "      <td>1</td>\n",
       "      <td>1</td>\n",
       "      <td>Cumings, Mrs. John Bradley (Florence Briggs Th...</td>\n",
       "      <td>female</td>\n",
       "      <td>38.0</td>\n",
       "      <td>1</td>\n",
       "      <td>0</td>\n",
       "      <td>PC 17599</td>\n",
       "      <td>71.2833</td>\n",
       "      <td>C85</td>\n",
       "      <td>C</td>\n",
       "    </tr>\n",
       "    <tr>\n",
       "      <th>2</th>\n",
       "      <td>3</td>\n",
       "      <td>1</td>\n",
       "      <td>3</td>\n",
       "      <td>Heikkinen, Miss. Laina</td>\n",
       "      <td>female</td>\n",
       "      <td>26.0</td>\n",
       "      <td>0</td>\n",
       "      <td>0</td>\n",
       "      <td>STON/O2. 3101282</td>\n",
       "      <td>7.9250</td>\n",
       "      <td>NaN</td>\n",
       "      <td>S</td>\n",
       "    </tr>\n",
       "    <tr>\n",
       "      <th>3</th>\n",
       "      <td>4</td>\n",
       "      <td>1</td>\n",
       "      <td>1</td>\n",
       "      <td>Futrelle, Mrs. Jacques Heath (Lily May Peel)</td>\n",
       "      <td>female</td>\n",
       "      <td>35.0</td>\n",
       "      <td>1</td>\n",
       "      <td>0</td>\n",
       "      <td>113803</td>\n",
       "      <td>53.1000</td>\n",
       "      <td>C123</td>\n",
       "      <td>S</td>\n",
       "    </tr>\n",
       "    <tr>\n",
       "      <th>4</th>\n",
       "      <td>5</td>\n",
       "      <td>0</td>\n",
       "      <td>3</td>\n",
       "      <td>Allen, Mr. William Henry</td>\n",
       "      <td>male</td>\n",
       "      <td>35.0</td>\n",
       "      <td>0</td>\n",
       "      <td>0</td>\n",
       "      <td>373450</td>\n",
       "      <td>8.0500</td>\n",
       "      <td>NaN</td>\n",
       "      <td>S</td>\n",
       "    </tr>\n",
       "  </tbody>\n",
       "</table>\n",
       "</div>"
      ],
      "text/plain": [
       "   PassengerId  Survived  Pclass  \\\n",
       "0            1         0       3   \n",
       "1            2         1       1   \n",
       "2            3         1       3   \n",
       "3            4         1       1   \n",
       "4            5         0       3   \n",
       "\n",
       "                                                Name     Sex   Age  SibSp  \\\n",
       "0                            Braund, Mr. Owen Harris    male  22.0      1   \n",
       "1  Cumings, Mrs. John Bradley (Florence Briggs Th...  female  38.0      1   \n",
       "2                             Heikkinen, Miss. Laina  female  26.0      0   \n",
       "3       Futrelle, Mrs. Jacques Heath (Lily May Peel)  female  35.0      1   \n",
       "4                           Allen, Mr. William Henry    male  35.0      0   \n",
       "\n",
       "   Parch            Ticket     Fare Cabin Embarked  \n",
       "0      0         A/5 21171   7.2500   NaN        S  \n",
       "1      0          PC 17599  71.2833   C85        C  \n",
       "2      0  STON/O2. 3101282   7.9250   NaN        S  \n",
       "3      0            113803  53.1000  C123        S  \n",
       "4      0            373450   8.0500   NaN        S  "
      ]
     },
     "execution_count": 38,
     "metadata": {},
     "output_type": "execute_result"
    }
   ],
   "source": [
    "data.head()"
   ]
  },
  {
   "cell_type": "code",
   "execution_count": 81,
   "metadata": {},
   "outputs": [
    {
     "data": {
      "text/plain": [
       "<matplotlib.legend.Legend at 0x1e0d2d871f0>"
      ]
     },
     "execution_count": 81,
     "metadata": {},
     "output_type": "execute_result"
    },
    {
     "data": {
      "image/png": "[encoded data removed]",
      "text/plain": [
       "<Figure size 720x360 with 1 Axes>"
      ]
     },
     "metadata": {},
     "output_type": "display_data"
    }
   ],
   "source": [
    "fig=py.figure(figsize=(10,5))\n",
    "sns.countplot(x='Survived',hue='Sex',data=data)\n",
    "py.legend(bbox_to_anchor=(1,0.4))"
   ]
  },
  {
   "cell_type": "code",
   "execution_count": 42,
   "metadata": {},
   "outputs": [
    {
     "data": {
      "text/plain": [
       "<AxesSubplot:xlabel='SibSp', ylabel='count'>"
      ]
     },
     "execution_count": 42,
     "metadata": {},
     "output_type": "execute_result"
    },
    {
     "data": {
      "image/png": "[encoded data removed]",
      "text/plain": [
       "<Figure size 432x288 with 1 Axes>"
      ]
     },
     "metadata": {},
     "output_type": "display_data"
    }
   ],
   "source": [
    "sns.countplot(x='SibSp',data=data)"
   ]
  },
  {
   "cell_type": "code",
   "execution_count": 43,
   "metadata": {},
   "outputs": [
    {
     "data": {
      "text/plain": [
       "<AxesSubplot:xlabel='Embarked', ylabel='count'>"
      ]
     },
     "execution_count": 43,
     "metadata": {},
     "output_type": "execute_result"
    },
    {
     "data": {
      "image/png": "[encoded data removed]",
      "text/plain": [
       "<Figure size 432x288 with 1 Axes>"
      ]
     },
     "metadata": {},
     "output_type": "display_data"
    }
   ],
   "source": [
    "sns.countplot(x='Embarked',data=data)"
   ]
  },
  {
   "cell_type": "code",
   "execution_count": 44,
   "metadata": {},
   "outputs": [
    {
     "name": "stdout",
     "output_type": "stream",
     "text": [
      "<class 'pandas.core.frame.DataFrame'>\n",
      "RangeIndex: 891 entries, 0 to 890\n",
      "Data columns (total 12 columns):\n",
      " #   Column       Non-Null Count  Dtype  \n",
      "---  ------       --------------  -----  \n",
      " 0   PassengerId  891 non-null    int64  \n",
      " 1   Survived     891 non-null    int64  \n",
      " 2   Pclass       891 non-null    int64  \n",
      " 3   Name         891 non-null    object \n",
      " 4   Sex          891 non-null    object \n",
      " 5   Age          714 non-null    float64\n",
      " 6   SibSp        891 non-null    int64  \n",
      " 7   Parch        891 non-null    int64  \n",
      " 8   Ticket       891 non-null    object \n",
      " 9   Fare         891 non-null    float64\n",
      " 10  Cabin        204 non-null    object \n",
      " 11  Embarked     889 non-null    object \n",
      "dtypes: float64(2), int64(5), object(5)\n",
      "memory usage: 83.7+ KB\n"
     ]
    }
   ],
   "source": [
    "data.info()"
   ]
  },
  {
   "cell_type": "code",
   "execution_count": 45,
   "metadata": {},
   "outputs": [
    {
     "data": {
      "text/html": [
       "<div>\n",
       "<style scoped>\n",
       "    .dataframe tbody tr th:only-of-type {\n",
       "        vertical-align: middle;\n",
       "    }\n",
       "\n",
       "    .dataframe tbody tr th {\n",
       "        vertical-align: top;\n",
       "    }\n",
       "\n",
       "    .dataframe thead th {\n",
       "        text-align: right;\n",
       "    }\n",
       "</style>\n",
       "<table border=\"1\" class=\"dataframe\">\n",
       "  <thead>\n",
       "    <tr style=\"text-align: right;\">\n",
       "      <th></th>\n",
       "      <th>PassengerId</th>\n",
       "      <th>Survived</th>\n",
       "      <th>Pclass</th>\n",
       "      <th>Age</th>\n",
       "      <th>SibSp</th>\n",
       "      <th>Parch</th>\n",
       "      <th>Fare</th>\n",
       "    </tr>\n",
       "  </thead>\n",
       "  <tbody>\n",
       "    <tr>\n",
       "      <th>count</th>\n",
       "      <td>891.000000</td>\n",
       "      <td>891.000000</td>\n",
       "      <td>891.000000</td>\n",
       "      <td>714.000000</td>\n",
       "      <td>891.000000</td>\n",
       "      <td>891.000000</td>\n",
       "      <td>891.000000</td>\n",
       "    </tr>\n",
       "    <tr>\n",
       "      <th>mean</th>\n",
       "      <td>446.000000</td>\n",
       "      <td>0.383838</td>\n",
       "      <td>2.308642</td>\n",
       "      <td>29.699118</td>\n",
       "      <td>0.523008</td>\n",
       "      <td>0.381594</td>\n",
       "      <td>32.204208</td>\n",
       "    </tr>\n",
       "    <tr>\n",
       "      <th>std</th>\n",
       "      <td>257.353842</td>\n",
       "      <td>0.486592</td>\n",
       "      <td>0.836071</td>\n",
       "      <td>14.526497</td>\n",
       "      <td>1.102743</td>\n",
       "      <td>0.806057</td>\n",
       "      <td>49.693429</td>\n",
       "    </tr>\n",
       "    <tr>\n",
       "      <th>min</th>\n",
       "      <td>1.000000</td>\n",
       "      <td>0.000000</td>\n",
       "      <td>1.000000</td>\n",
       "      <td>0.420000</td>\n",
       "      <td>0.000000</td>\n",
       "      <td>0.000000</td>\n",
       "      <td>0.000000</td>\n",
       "    </tr>\n",
       "    <tr>\n",
       "      <th>25%</th>\n",
       "      <td>223.500000</td>\n",
       "      <td>0.000000</td>\n",
       "      <td>2.000000</td>\n",
       "      <td>20.125000</td>\n",
       "      <td>0.000000</td>\n",
       "      <td>0.000000</td>\n",
       "      <td>7.910400</td>\n",
       "    </tr>\n",
       "    <tr>\n",
       "      <th>50%</th>\n",
       "      <td>446.000000</td>\n",
       "      <td>0.000000</td>\n",
       "      <td>3.000000</td>\n",
       "      <td>28.000000</td>\n",
       "      <td>0.000000</td>\n",
       "      <td>0.000000</td>\n",
       "      <td>14.454200</td>\n",
       "    </tr>\n",
       "    <tr>\n",
       "      <th>75%</th>\n",
       "      <td>668.500000</td>\n",
       "      <td>1.000000</td>\n",
       "      <td>3.000000</td>\n",
       "      <td>38.000000</td>\n",
       "      <td>1.000000</td>\n",
       "      <td>0.000000</td>\n",
       "      <td>31.000000</td>\n",
       "    </tr>\n",
       "    <tr>\n",
       "      <th>max</th>\n",
       "      <td>891.000000</td>\n",
       "      <td>1.000000</td>\n",
       "      <td>3.000000</td>\n",
       "      <td>80.000000</td>\n",
       "      <td>8.000000</td>\n",
       "      <td>6.000000</td>\n",
       "      <td>512.329200</td>\n",
       "    </tr>\n",
       "  </tbody>\n",
       "</table>\n",
       "</div>"
      ],
      "text/plain": [
       "       PassengerId    Survived      Pclass         Age       SibSp  \\\n",
       "count   891.000000  891.000000  891.000000  714.000000  891.000000   \n",
       "mean    446.000000    0.383838    2.308642   29.699118    0.523008   \n",
       "std     257.353842    0.486592    0.836071   14.526497    1.102743   \n",
       "min       1.000000    0.000000    1.000000    0.420000    0.000000   \n",
       "25%     223.500000    0.000000    2.000000   20.125000    0.000000   \n",
       "50%     446.000000    0.000000    3.000000   28.000000    0.000000   \n",
       "75%     668.500000    1.000000    3.000000   38.000000    1.000000   \n",
       "max     891.000000    1.000000    3.000000   80.000000    8.000000   \n",
       "\n",
       "            Parch        Fare  \n",
       "count  891.000000  891.000000  \n",
       "mean     0.381594   32.204208  \n",
       "std      0.806057   49.693429  \n",
       "min      0.000000    0.000000  \n",
       "25%      0.000000    7.910400  \n",
       "50%      0.000000   14.454200  \n",
       "75%      0.000000   31.000000  \n",
       "max      6.000000  512.329200  "
      ]
     },
     "execution_count": 45,
     "metadata": {},
     "output_type": "execute_result"
    }
   ],
   "source": [
    "data.describe()"
   ]
  },
  {
   "cell_type": "code",
   "execution_count": 46,
   "metadata": {},
   "outputs": [
    {
     "data": {
      "text/html": [
       "<div>\n",
       "<style scoped>\n",
       "    .dataframe tbody tr th:only-of-type {\n",
       "        vertical-align: middle;\n",
       "    }\n",
       "\n",
       "    .dataframe tbody tr th {\n",
       "        vertical-align: top;\n",
       "    }\n",
       "\n",
       "    .dataframe thead th {\n",
       "        text-align: right;\n",
       "    }\n",
       "</style>\n",
       "<table border=\"1\" class=\"dataframe\">\n",
       "  <thead>\n",
       "    <tr style=\"text-align: right;\">\n",
       "      <th></th>\n",
       "      <th>PassengerId</th>\n",
       "      <th>Survived</th>\n",
       "      <th>Pclass</th>\n",
       "      <th>Name</th>\n",
       "      <th>Sex</th>\n",
       "      <th>Age</th>\n",
       "      <th>SibSp</th>\n",
       "      <th>Parch</th>\n",
       "      <th>Ticket</th>\n",
       "      <th>Fare</th>\n",
       "      <th>Cabin</th>\n",
       "      <th>Embarked</th>\n",
       "    </tr>\n",
       "  </thead>\n",
       "  <tbody>\n",
       "    <tr>\n",
       "      <th>0</th>\n",
       "      <td>1</td>\n",
       "      <td>0</td>\n",
       "      <td>3</td>\n",
       "      <td>Braund, Mr. Owen Harris</td>\n",
       "      <td>male</td>\n",
       "      <td>22.0</td>\n",
       "      <td>1</td>\n",
       "      <td>0</td>\n",
       "      <td>A/5 21171</td>\n",
       "      <td>7.2500</td>\n",
       "      <td>NaN</td>\n",
       "      <td>S</td>\n",
       "    </tr>\n",
       "    <tr>\n",
       "      <th>1</th>\n",
       "      <td>2</td>\n",
       "      <td>1</td>\n",
       "      <td>1</td>\n",
       "      <td>Cumings, Mrs. John Bradley (Florence Briggs Th...</td>\n",
       "      <td>female</td>\n",
       "      <td>38.0</td>\n",
       "      <td>1</td>\n",
       "      <td>0</td>\n",
       "      <td>PC 17599</td>\n",
       "      <td>71.2833</td>\n",
       "      <td>C85</td>\n",
       "      <td>C</td>\n",
       "    </tr>\n",
       "    <tr>\n",
       "      <th>2</th>\n",
       "      <td>3</td>\n",
       "      <td>1</td>\n",
       "      <td>3</td>\n",
       "      <td>Heikkinen, Miss. Laina</td>\n",
       "      <td>female</td>\n",
       "      <td>26.0</td>\n",
       "      <td>0</td>\n",
       "      <td>0</td>\n",
       "      <td>STON/O2. 3101282</td>\n",
       "      <td>7.9250</td>\n",
       "      <td>NaN</td>\n",
       "      <td>S</td>\n",
       "    </tr>\n",
       "    <tr>\n",
       "      <th>3</th>\n",
       "      <td>4</td>\n",
       "      <td>1</td>\n",
       "      <td>1</td>\n",
       "      <td>Futrelle, Mrs. Jacques Heath (Lily May Peel)</td>\n",
       "      <td>female</td>\n",
       "      <td>35.0</td>\n",
       "      <td>1</td>\n",
       "      <td>0</td>\n",
       "      <td>113803</td>\n",
       "      <td>53.1000</td>\n",
       "      <td>C123</td>\n",
       "      <td>S</td>\n",
       "    </tr>\n",
       "    <tr>\n",
       "      <th>4</th>\n",
       "      <td>5</td>\n",
       "      <td>0</td>\n",
       "      <td>3</td>\n",
       "      <td>Allen, Mr. William Henry</td>\n",
       "      <td>male</td>\n",
       "      <td>35.0</td>\n",
       "      <td>0</td>\n",
       "      <td>0</td>\n",
       "      <td>373450</td>\n",
       "      <td>8.0500</td>\n",
       "      <td>NaN</td>\n",
       "      <td>S</td>\n",
       "    </tr>\n",
       "  </tbody>\n",
       "</table>\n",
       "</div>"
      ],
      "text/plain": [
       "   PassengerId  Survived  Pclass  \\\n",
       "0            1         0       3   \n",
       "1            2         1       1   \n",
       "2            3         1       3   \n",
       "3            4         1       1   \n",
       "4            5         0       3   \n",
       "\n",
       "                                                Name     Sex   Age  SibSp  \\\n",
       "0                            Braund, Mr. Owen Harris    male  22.0      1   \n",
       "1  Cumings, Mrs. John Bradley (Florence Briggs Th...  female  38.0      1   \n",
       "2                             Heikkinen, Miss. Laina  female  26.0      0   \n",
       "3       Futrelle, Mrs. Jacques Heath (Lily May Peel)  female  35.0      1   \n",
       "4                           Allen, Mr. William Henry    male  35.0      0   \n",
       "\n",
       "   Parch            Ticket     Fare Cabin Embarked  \n",
       "0      0         A/5 21171   7.2500   NaN        S  \n",
       "1      0          PC 17599  71.2833   C85        C  \n",
       "2      0  STON/O2. 3101282   7.9250   NaN        S  \n",
       "3      0            113803  53.1000  C123        S  \n",
       "4      0            373450   8.0500   NaN        S  "
      ]
     },
     "execution_count": 46,
     "metadata": {},
     "output_type": "execute_result"
    }
   ],
   "source": [
    "data.head()"
   ]
  },
  {
   "cell_type": "code",
   "execution_count": 105,
   "metadata": {},
   "outputs": [],
   "source": [
    "data_x.drop(('Age',),axis=1,inplace=True)"
   ]
  },
  {
   "cell_type": "code",
   "execution_count": 106,
   "metadata": {},
   "outputs": [
    {
     "data": {
      "text/html": [
       "<div>\n",
       "<style scoped>\n",
       "    .dataframe tbody tr th:only-of-type {\n",
       "        vertical-align: middle;\n",
       "    }\n",
       "\n",
       "    .dataframe tbody tr th {\n",
       "        vertical-align: top;\n",
       "    }\n",
       "\n",
       "    .dataframe thead th {\n",
       "        text-align: right;\n",
       "    }\n",
       "</style>\n",
       "<table border=\"1\" class=\"dataframe\">\n",
       "  <thead>\n",
       "    <tr style=\"text-align: right;\">\n",
       "      <th></th>\n",
       "      <th>Pclass</th>\n",
       "      <th>Sex</th>\n",
       "      <th>Age</th>\n",
       "      <th>SibSp</th>\n",
       "      <th>Parch</th>\n",
       "      <th>Fare</th>\n",
       "      <th>Embarked</th>\n",
       "    </tr>\n",
       "  </thead>\n",
       "  <tbody>\n",
       "    <tr>\n",
       "      <th>0</th>\n",
       "      <td>3</td>\n",
       "      <td>1</td>\n",
       "      <td>22.0</td>\n",
       "      <td>1</td>\n",
       "      <td>0</td>\n",
       "      <td>7.2500</td>\n",
       "      <td>S</td>\n",
       "    </tr>\n",
       "    <tr>\n",
       "      <th>1</th>\n",
       "      <td>1</td>\n",
       "      <td>0</td>\n",
       "      <td>38.0</td>\n",
       "      <td>1</td>\n",
       "      <td>0</td>\n",
       "      <td>71.2833</td>\n",
       "      <td>C</td>\n",
       "    </tr>\n",
       "    <tr>\n",
       "      <th>2</th>\n",
       "      <td>3</td>\n",
       "      <td>0</td>\n",
       "      <td>26.0</td>\n",
       "      <td>0</td>\n",
       "      <td>0</td>\n",
       "      <td>7.9250</td>\n",
       "      <td>S</td>\n",
       "    </tr>\n",
       "    <tr>\n",
       "      <th>3</th>\n",
       "      <td>1</td>\n",
       "      <td>0</td>\n",
       "      <td>35.0</td>\n",
       "      <td>1</td>\n",
       "      <td>0</td>\n",
       "      <td>53.1000</td>\n",
       "      <td>S</td>\n",
       "    </tr>\n",
       "    <tr>\n",
       "      <th>4</th>\n",
       "      <td>3</td>\n",
       "      <td>1</td>\n",
       "      <td>35.0</td>\n",
       "      <td>0</td>\n",
       "      <td>0</td>\n",
       "      <td>8.0500</td>\n",
       "      <td>S</td>\n",
       "    </tr>\n",
       "  </tbody>\n",
       "</table>\n",
       "</div>"
      ],
      "text/plain": [
       "   Pclass  Sex   Age  SibSp  Parch     Fare Embarked\n",
       "0       3    1  22.0      1      0   7.2500        S\n",
       "1       1    0  38.0      1      0  71.2833        C\n",
       "2       3    0  26.0      0      0   7.9250        S\n",
       "3       1    0  35.0      1      0  53.1000        S\n",
       "4       3    1  35.0      0      0   8.0500        S"
      ]
     },
     "execution_count": 106,
     "metadata": {},
     "output_type": "execute_result"
    }
   ],
   "source": [
    "data_x.head()"
   ]
  },
  {
   "cell_type": "code",
   "execution_count": 133,
   "metadata": {},
   "outputs": [
    {
     "data": {
      "text/plain": [
       "S    644\n",
       "C    168\n",
       "Q     77\n",
       "Name: Embarked, dtype: int64"
      ]
     },
     "execution_count": 133,
     "metadata": {},
     "output_type": "execute_result"
    }
   ],
   "source": [
    "data_x['Embarked'].value_counts()"
   ]
  },
  {
   "cell_type": "code",
   "execution_count": 136,
   "metadata": {},
   "outputs": [],
   "source": [
    "dumies=pd.get_dummies(data_x['Embarked'],drop_first=True)"
   ]
  },
  {
   "cell_type": "code",
   "execution_count": 138,
   "metadata": {},
   "outputs": [
    {
     "data": {
      "text/html": [
       "<div>\n",
       "<style scoped>\n",
       "    .dataframe tbody tr th:only-of-type {\n",
       "        vertical-align: middle;\n",
       "    }\n",
       "\n",
       "    .dataframe tbody tr th {\n",
       "        vertical-align: top;\n",
       "    }\n",
       "\n",
       "    .dataframe thead th {\n",
       "        text-align: right;\n",
       "    }\n",
       "</style>\n",
       "<table border=\"1\" class=\"dataframe\">\n",
       "  <thead>\n",
       "    <tr style=\"text-align: right;\">\n",
       "      <th></th>\n",
       "      <th>Q</th>\n",
       "      <th>S</th>\n",
       "    </tr>\n",
       "  </thead>\n",
       "  <tbody>\n",
       "    <tr>\n",
       "      <th>0</th>\n",
       "      <td>0</td>\n",
       "      <td>1</td>\n",
       "    </tr>\n",
       "    <tr>\n",
       "      <th>1</th>\n",
       "      <td>0</td>\n",
       "      <td>0</td>\n",
       "    </tr>\n",
       "    <tr>\n",
       "      <th>2</th>\n",
       "      <td>0</td>\n",
       "      <td>1</td>\n",
       "    </tr>\n",
       "    <tr>\n",
       "      <th>3</th>\n",
       "      <td>0</td>\n",
       "      <td>1</td>\n",
       "    </tr>\n",
       "    <tr>\n",
       "      <th>4</th>\n",
       "      <td>0</td>\n",
       "      <td>1</td>\n",
       "    </tr>\n",
       "  </tbody>\n",
       "</table>\n",
       "</div>"
      ],
      "text/plain": [
       "   Q  S\n",
       "0  0  1\n",
       "1  0  0\n",
       "2  0  1\n",
       "3  0  1\n",
       "4  0  1"
      ]
     },
     "execution_count": 138,
     "metadata": {},
     "output_type": "execute_result"
    }
   ],
   "source": [
    "dumies.head()"
   ]
  },
  {
   "cell_type": "code",
   "execution_count": 144,
   "metadata": {},
   "outputs": [],
   "source": [
    "X=data_x\n",
    "y=data['Survived']"
   ]
  },
  {
   "cell_type": "code",
   "execution_count": 141,
   "metadata": {},
   "outputs": [],
   "source": [
    "data_x[['Q_cabin','S_cabin']]=dumies\n",
    "data_x.head()\n",
    "data_x.drop('Embarked',axis=1,inplace=True)"
   ]
  },
  {
   "cell_type": "code",
   "execution_count": 145,
   "metadata": {},
   "outputs": [
    {
     "data": {
      "text/html": [
       "<div>\n",
       "<style scoped>\n",
       "    .dataframe tbody tr th:only-of-type {\n",
       "        vertical-align: middle;\n",
       "    }\n",
       "\n",
       "    .dataframe tbody tr th {\n",
       "        vertical-align: top;\n",
       "    }\n",
       "\n",
       "    .dataframe thead th {\n",
       "        text-align: right;\n",
       "    }\n",
       "</style>\n",
       "<table border=\"1\" class=\"dataframe\">\n",
       "  <thead>\n",
       "    <tr style=\"text-align: right;\">\n",
       "      <th></th>\n",
       "      <th>Pclass</th>\n",
       "      <th>Sex</th>\n",
       "      <th>Age</th>\n",
       "      <th>SibSp</th>\n",
       "      <th>Parch</th>\n",
       "      <th>Fare</th>\n",
       "      <th>Q_cabin</th>\n",
       "      <th>S_cabin</th>\n",
       "    </tr>\n",
       "  </thead>\n",
       "  <tbody>\n",
       "    <tr>\n",
       "      <th>0</th>\n",
       "      <td>3</td>\n",
       "      <td>1</td>\n",
       "      <td>22.0</td>\n",
       "      <td>1</td>\n",
       "      <td>0</td>\n",
       "      <td>7.2500</td>\n",
       "      <td>0</td>\n",
       "      <td>1</td>\n",
       "    </tr>\n",
       "    <tr>\n",
       "      <th>1</th>\n",
       "      <td>1</td>\n",
       "      <td>0</td>\n",
       "      <td>38.0</td>\n",
       "      <td>1</td>\n",
       "      <td>0</td>\n",
       "      <td>71.2833</td>\n",
       "      <td>0</td>\n",
       "      <td>0</td>\n",
       "    </tr>\n",
       "    <tr>\n",
       "      <th>2</th>\n",
       "      <td>3</td>\n",
       "      <td>0</td>\n",
       "      <td>26.0</td>\n",
       "      <td>0</td>\n",
       "      <td>0</td>\n",
       "      <td>7.9250</td>\n",
       "      <td>0</td>\n",
       "      <td>1</td>\n",
       "    </tr>\n",
       "    <tr>\n",
       "      <th>3</th>\n",
       "      <td>1</td>\n",
       "      <td>0</td>\n",
       "      <td>35.0</td>\n",
       "      <td>1</td>\n",
       "      <td>0</td>\n",
       "      <td>53.1000</td>\n",
       "      <td>0</td>\n",
       "      <td>1</td>\n",
       "    </tr>\n",
       "    <tr>\n",
       "      <th>4</th>\n",
       "      <td>3</td>\n",
       "      <td>1</td>\n",
       "      <td>35.0</td>\n",
       "      <td>0</td>\n",
       "      <td>0</td>\n",
       "      <td>8.0500</td>\n",
       "      <td>0</td>\n",
       "      <td>1</td>\n",
       "    </tr>\n",
       "    <tr>\n",
       "      <th>...</th>\n",
       "      <td>...</td>\n",
       "      <td>...</td>\n",
       "      <td>...</td>\n",
       "      <td>...</td>\n",
       "      <td>...</td>\n",
       "      <td>...</td>\n",
       "      <td>...</td>\n",
       "      <td>...</td>\n",
       "    </tr>\n",
       "    <tr>\n",
       "      <th>886</th>\n",
       "      <td>2</td>\n",
       "      <td>1</td>\n",
       "      <td>27.0</td>\n",
       "      <td>0</td>\n",
       "      <td>0</td>\n",
       "      <td>13.0000</td>\n",
       "      <td>0</td>\n",
       "      <td>1</td>\n",
       "    </tr>\n",
       "    <tr>\n",
       "      <th>887</th>\n",
       "      <td>1</td>\n",
       "      <td>0</td>\n",
       "      <td>19.0</td>\n",
       "      <td>0</td>\n",
       "      <td>0</td>\n",
       "      <td>30.0000</td>\n",
       "      <td>0</td>\n",
       "      <td>1</td>\n",
       "    </tr>\n",
       "    <tr>\n",
       "      <th>888</th>\n",
       "      <td>3</td>\n",
       "      <td>0</td>\n",
       "      <td>38.2</td>\n",
       "      <td>1</td>\n",
       "      <td>2</td>\n",
       "      <td>23.4500</td>\n",
       "      <td>0</td>\n",
       "      <td>1</td>\n",
       "    </tr>\n",
       "    <tr>\n",
       "      <th>889</th>\n",
       "      <td>1</td>\n",
       "      <td>1</td>\n",
       "      <td>26.0</td>\n",
       "      <td>0</td>\n",
       "      <td>0</td>\n",
       "      <td>30.0000</td>\n",
       "      <td>0</td>\n",
       "      <td>0</td>\n",
       "    </tr>\n",
       "    <tr>\n",
       "      <th>890</th>\n",
       "      <td>3</td>\n",
       "      <td>1</td>\n",
       "      <td>32.0</td>\n",
       "      <td>0</td>\n",
       "      <td>0</td>\n",
       "      <td>7.7500</td>\n",
       "      <td>1</td>\n",
       "      <td>0</td>\n",
       "    </tr>\n",
       "  </tbody>\n",
       "</table>\n",
       "<p>891 rows × 8 columns</p>\n",
       "</div>"
      ],
      "text/plain": [
       "     Pclass  Sex   Age  SibSp  Parch     Fare  Q_cabin  S_cabin\n",
       "0         3    1  22.0      1      0   7.2500        0        1\n",
       "1         1    0  38.0      1      0  71.2833        0        0\n",
       "2         3    0  26.0      0      0   7.9250        0        1\n",
       "3         1    0  35.0      1      0  53.1000        0        1\n",
       "4         3    1  35.0      0      0   8.0500        0        1\n",
       "..      ...  ...   ...    ...    ...      ...      ...      ...\n",
       "886       2    1  27.0      0      0  13.0000        0        1\n",
       "887       1    0  19.0      0      0  30.0000        0        1\n",
       "888       3    0  38.2      1      2  23.4500        0        1\n",
       "889       1    1  26.0      0      0  30.0000        0        0\n",
       "890       3    1  32.0      0      0   7.7500        1        0\n",
       "\n",
       "[891 rows x 8 columns]"
      ]
     },
     "execution_count": 145,
     "metadata": {},
     "output_type": "execute_result"
    }
   ],
   "source": [
    "X"
   ]
  },
  {
   "cell_type": "code",
   "execution_count": 146,
   "metadata": {},
   "outputs": [],
   "source": [
    "from sklearn.model_selection import train_test_split\n",
    "X_train, X_test, y_train, y_test = train_test_split(X, y, test_size=0.2, stratify=y,random_state=2)"
   ]
  },
  {
   "cell_type": "code",
   "execution_count": 147,
   "metadata": {},
   "outputs": [
    {
     "name": "stdout",
     "output_type": "stream",
     "text": [
      "(712, 8) (179, 8)\n"
     ]
    }
   ],
   "source": [
    "print(X_train.shape,X_test.shape,)"
   ]
  },
  {
   "cell_type": "code",
   "execution_count": 155,
   "metadata": {},
   "outputs": [],
   "source": [
    "from catboost import CatBoostClassifier"
   ]
  },
  {
   "cell_type": "code",
   "execution_count": 161,
   "metadata": {},
   "outputs": [],
   "source": [
    "cat_model=CatBoostClassifier(scale_pos_weight=99,random_state=2,n_estimators=500)"
   ]
  },
  {
   "cell_type": "code",
   "execution_count": 162,
   "metadata": {},
   "outputs": [],
   "source": [
    "n_estimators=[np.arange(100,1000,100)]"
   ]
  },
  {
   "cell_type": "code",
   "execution_count": 163,
   "metadata": {},
   "outputs": [
    {
     "data": {
      "text/plain": [
       "Pclass     False\n",
       "Sex        False\n",
       "Age        False\n",
       "SibSp      False\n",
       "Parch      False\n",
       "Fare       False\n",
       "Q_cabin    False\n",
       "S_cabin    False\n",
       "dtype: bool"
      ]
     },
     "execution_count": 163,
     "metadata": {},
     "output_type": "execute_result"
    }
   ],
   "source": [
    "n_estimators\n",
    "X.isnull().any()"
   ]
  },
  {
   "cell_type": "code",
   "execution_count": 164,
   "metadata": {},
   "outputs": [
    {
     "name": "stdout",
     "output_type": "stream",
     "text": [
      "Learning rate set to 0.016826\n",
      "0:\tlearn: 0.6601253\ttotal: 281ms\tremaining: 2m 19s\n",
      "1:\tlearn: 0.6258817\ttotal: 286ms\tremaining: 1m 11s\n",
      "2:\tlearn: 0.5966188\ttotal: 291ms\tremaining: 48.2s\n",
      "3:\tlearn: 0.5683726\ttotal: 296ms\tremaining: 36.7s\n",
      "4:\tlearn: 0.5387889\ttotal: 301ms\tremaining: 29.8s\n",
      "5:\tlearn: 0.5148938\ttotal: 306ms\tremaining: 25.2s\n",
      "6:\tlearn: 0.4908950\ttotal: 308ms\tremaining: 21.7s\n",
      "7:\tlearn: 0.4691679\ttotal: 311ms\tremaining: 19.1s\n",
      "8:\tlearn: 0.4475058\ttotal: 314ms\tremaining: 17.1s\n",
      "9:\tlearn: 0.4271580\ttotal: 317ms\tremaining: 15.5s\n",
      "10:\tlearn: 0.4082890\ttotal: 319ms\tremaining: 14.2s\n",
      "11:\tlearn: 0.3905750\ttotal: 323ms\tremaining: 13.1s\n",
      "12:\tlearn: 0.3739722\ttotal: 326ms\tremaining: 12.2s\n",
      "13:\tlearn: 0.3578476\ttotal: 330ms\tremaining: 11.4s\n",
      "14:\tlearn: 0.3428559\ttotal: 332ms\tremaining: 10.7s\n",
      "15:\tlearn: 0.3282361\ttotal: 334ms\tremaining: 10.1s\n",
      "16:\tlearn: 0.3151414\ttotal: 337ms\tremaining: 9.57s\n",
      "17:\tlearn: 0.3024321\ttotal: 339ms\tremaining: 9.08s\n",
      "18:\tlearn: 0.2889794\ttotal: 341ms\tremaining: 8.63s\n",
      "19:\tlearn: 0.2773580\ttotal: 343ms\tremaining: 8.22s\n",
      "20:\tlearn: 0.2664570\ttotal: 345ms\tremaining: 7.87s\n",
      "21:\tlearn: 0.2564693\ttotal: 347ms\tremaining: 7.54s\n",
      "22:\tlearn: 0.2464891\ttotal: 349ms\tremaining: 7.25s\n",
      "23:\tlearn: 0.2373923\ttotal: 352ms\tremaining: 6.98s\n",
      "24:\tlearn: 0.2288696\ttotal: 353ms\tremaining: 6.71s\n",
      "25:\tlearn: 0.2210356\ttotal: 355ms\tremaining: 6.48s\n",
      "26:\tlearn: 0.2137323\ttotal: 358ms\tremaining: 6.27s\n",
      "27:\tlearn: 0.2065186\ttotal: 360ms\tremaining: 6.07s\n",
      "28:\tlearn: 0.1998850\ttotal: 362ms\tremaining: 5.88s\n",
      "29:\tlearn: 0.1938261\ttotal: 363ms\tremaining: 5.69s\n",
      "30:\tlearn: 0.1884424\ttotal: 365ms\tremaining: 5.53s\n",
      "31:\tlearn: 0.1827637\ttotal: 368ms\tremaining: 5.38s\n",
      "32:\tlearn: 0.1775769\ttotal: 370ms\tremaining: 5.23s\n",
      "33:\tlearn: 0.1725701\ttotal: 372ms\tremaining: 5.09s\n",
      "34:\tlearn: 0.1668103\ttotal: 374ms\tremaining: 4.97s\n",
      "35:\tlearn: 0.1621563\ttotal: 375ms\tremaining: 4.84s\n",
      "36:\tlearn: 0.1578885\ttotal: 377ms\tremaining: 4.72s\n",
      "37:\tlearn: 0.1537761\ttotal: 379ms\tremaining: 4.61s\n",
      "38:\tlearn: 0.1491498\ttotal: 381ms\tremaining: 4.51s\n",
      "39:\tlearn: 0.1455584\ttotal: 383ms\tremaining: 4.4s\n",
      "40:\tlearn: 0.1423873\ttotal: 385ms\tremaining: 4.31s\n",
      "41:\tlearn: 0.1389007\ttotal: 387ms\tremaining: 4.22s\n",
      "42:\tlearn: 0.1359989\ttotal: 389ms\tremaining: 4.13s\n",
      "43:\tlearn: 0.1331370\ttotal: 390ms\tremaining: 4.04s\n",
      "44:\tlearn: 0.1303873\ttotal: 391ms\tremaining: 3.95s\n",
      "45:\tlearn: 0.1277790\ttotal: 393ms\tremaining: 3.88s\n",
      "46:\tlearn: 0.1253734\ttotal: 394ms\tremaining: 3.8s\n",
      "47:\tlearn: 0.1229782\ttotal: 396ms\tremaining: 3.73s\n",
      "48:\tlearn: 0.1207632\ttotal: 398ms\tremaining: 3.66s\n",
      "49:\tlearn: 0.1185629\ttotal: 400ms\tremaining: 3.6s\n",
      "50:\tlearn: 0.1166381\ttotal: 401ms\tremaining: 3.53s\n",
      "51:\tlearn: 0.1146840\ttotal: 402ms\tremaining: 3.46s\n",
      "52:\tlearn: 0.1128451\ttotal: 404ms\tremaining: 3.41s\n",
      "53:\tlearn: 0.1111005\ttotal: 406ms\tremaining: 3.35s\n",
      "54:\tlearn: 0.1095952\ttotal: 408ms\tremaining: 3.3s\n",
      "55:\tlearn: 0.1079613\ttotal: 410ms\tremaining: 3.25s\n",
      "56:\tlearn: 0.1058432\ttotal: 412ms\tremaining: 3.2s\n",
      "57:\tlearn: 0.1039097\ttotal: 416ms\tremaining: 3.17s\n",
      "58:\tlearn: 0.1025135\ttotal: 418ms\tremaining: 3.13s\n",
      "59:\tlearn: 0.1013365\ttotal: 420ms\tremaining: 3.08s\n",
      "60:\tlearn: 0.1001114\ttotal: 422ms\tremaining: 3.04s\n",
      "61:\tlearn: 0.0990337\ttotal: 424ms\tremaining: 3s\n",
      "62:\tlearn: 0.0975283\ttotal: 426ms\tremaining: 2.96s\n",
      "63:\tlearn: 0.0960920\ttotal: 428ms\tremaining: 2.92s\n",
      "64:\tlearn: 0.0950137\ttotal: 430ms\tremaining: 2.88s\n",
      "65:\tlearn: 0.0939293\ttotal: 432ms\tremaining: 2.84s\n",
      "66:\tlearn: 0.0930395\ttotal: 435ms\tremaining: 2.81s\n",
      "67:\tlearn: 0.0921420\ttotal: 438ms\tremaining: 2.78s\n",
      "68:\tlearn: 0.0909558\ttotal: 440ms\tremaining: 2.75s\n",
      "69:\tlearn: 0.0901541\ttotal: 443ms\tremaining: 2.72s\n",
      "70:\tlearn: 0.0890112\ttotal: 445ms\tremaining: 2.69s\n",
      "71:\tlearn: 0.0882722\ttotal: 447ms\tremaining: 2.65s\n",
      "72:\tlearn: 0.0876132\ttotal: 449ms\tremaining: 2.63s\n",
      "73:\tlearn: 0.0868581\ttotal: 451ms\tremaining: 2.6s\n",
      "74:\tlearn: 0.0858642\ttotal: 453ms\tremaining: 2.56s\n",
      "75:\tlearn: 0.0850647\ttotal: 456ms\tremaining: 2.55s\n",
      "76:\tlearn: 0.0844630\ttotal: 459ms\tremaining: 2.52s\n",
      "77:\tlearn: 0.0839402\ttotal: 461ms\tremaining: 2.5s\n",
      "78:\tlearn: 0.0831464\ttotal: 463ms\tremaining: 2.47s\n",
      "79:\tlearn: 0.0826645\ttotal: 465ms\tremaining: 2.44s\n",
      "80:\tlearn: 0.0822014\ttotal: 466ms\tremaining: 2.41s\n",
      "81:\tlearn: 0.0814910\ttotal: 468ms\tremaining: 2.38s\n",
      "82:\tlearn: 0.0810715\ttotal: 470ms\tremaining: 2.36s\n",
      "83:\tlearn: 0.0806382\ttotal: 472ms\tremaining: 2.34s\n",
      "84:\tlearn: 0.0800405\ttotal: 475ms\tremaining: 2.32s\n",
      "85:\tlearn: 0.0796960\ttotal: 478ms\tremaining: 2.3s\n",
      "86:\tlearn: 0.0793417\ttotal: 480ms\tremaining: 2.28s\n",
      "87:\tlearn: 0.0789886\ttotal: 481ms\tremaining: 2.25s\n",
      "88:\tlearn: 0.0786492\ttotal: 486ms\tremaining: 2.24s\n",
      "89:\tlearn: 0.0783247\ttotal: 488ms\tremaining: 2.22s\n",
      "90:\tlearn: 0.0780339\ttotal: 489ms\tremaining: 2.2s\n",
      "91:\tlearn: 0.0777309\ttotal: 490ms\tremaining: 2.17s\n",
      "92:\tlearn: 0.0774668\ttotal: 492ms\tremaining: 2.15s\n",
      "93:\tlearn: 0.0771817\ttotal: 494ms\tremaining: 2.13s\n",
      "94:\tlearn: 0.0769034\ttotal: 496ms\tremaining: 2.11s\n",
      "95:\tlearn: 0.0766178\ttotal: 498ms\tremaining: 2.1s\n",
      "96:\tlearn: 0.0761500\ttotal: 501ms\tremaining: 2.08s\n",
      "97:\tlearn: 0.0757493\ttotal: 504ms\tremaining: 2.07s\n",
      "98:\tlearn: 0.0755032\ttotal: 506ms\tremaining: 2.05s\n",
      "99:\tlearn: 0.0751170\ttotal: 508ms\tremaining: 2.03s\n",
      "100:\tlearn: 0.0749217\ttotal: 509ms\tremaining: 2.01s\n",
      "101:\tlearn: 0.0747056\ttotal: 511ms\tremaining: 1.99s\n",
      "102:\tlearn: 0.0745291\ttotal: 513ms\tremaining: 1.98s\n",
      "103:\tlearn: 0.0741592\ttotal: 515ms\tremaining: 1.96s\n",
      "104:\tlearn: 0.0739856\ttotal: 519ms\tremaining: 1.95s\n",
      "105:\tlearn: 0.0737670\ttotal: 521ms\tremaining: 1.94s\n",
      "106:\tlearn: 0.0736010\ttotal: 523ms\tremaining: 1.92s\n",
      "107:\tlearn: 0.0734569\ttotal: 525ms\tremaining: 1.91s\n",
      "108:\tlearn: 0.0733040\ttotal: 527ms\tremaining: 1.89s\n",
      "109:\tlearn: 0.0731196\ttotal: 529ms\tremaining: 1.88s\n",
      "110:\tlearn: 0.0729718\ttotal: 531ms\tremaining: 1.86s\n",
      "111:\tlearn: 0.0727949\ttotal: 533ms\tremaining: 1.85s\n",
      "112:\tlearn: 0.0726722\ttotal: 535ms\tremaining: 1.83s\n",
      "113:\tlearn: 0.0725255\ttotal: 537ms\tremaining: 1.82s\n",
      "114:\tlearn: 0.0723969\ttotal: 539ms\tremaining: 1.8s\n",
      "115:\tlearn: 0.0720555\ttotal: 540ms\tremaining: 1.79s\n",
      "116:\tlearn: 0.0718486\ttotal: 543ms\tremaining: 1.77s\n",
      "117:\tlearn: 0.0717507\ttotal: 544ms\tremaining: 1.76s\n",
      "118:\tlearn: 0.0716278\ttotal: 546ms\tremaining: 1.75s\n",
      "119:\tlearn: 0.0713892\ttotal: 548ms\tremaining: 1.73s\n",
      "120:\tlearn: 0.0712664\ttotal: 550ms\tremaining: 1.72s\n",
      "121:\tlearn: 0.0710029\ttotal: 551ms\tremaining: 1.71s\n",
      "122:\tlearn: 0.0709191\ttotal: 553ms\tremaining: 1.69s\n",
      "123:\tlearn: 0.0706718\ttotal: 555ms\tremaining: 1.68s\n",
      "124:\tlearn: 0.0705851\ttotal: 557ms\tremaining: 1.67s\n",
      "125:\tlearn: 0.0704980\ttotal: 558ms\tremaining: 1.66s\n",
      "126:\tlearn: 0.0704238\ttotal: 560ms\tremaining: 1.65s\n",
      "127:\tlearn: 0.0702357\ttotal: 562ms\tremaining: 1.63s\n",
      "128:\tlearn: 0.0700605\ttotal: 564ms\tremaining: 1.62s\n",
      "129:\tlearn: 0.0698940\ttotal: 566ms\tremaining: 1.61s\n",
      "130:\tlearn: 0.0698130\ttotal: 568ms\tremaining: 1.6s\n",
      "131:\tlearn: 0.0696435\ttotal: 570ms\tremaining: 1.59s\n",
      "132:\tlearn: 0.0695675\ttotal: 572ms\tremaining: 1.58s\n",
      "133:\tlearn: 0.0695040\ttotal: 574ms\tremaining: 1.57s\n",
      "134:\tlearn: 0.0694156\ttotal: 576ms\tremaining: 1.56s\n",
      "135:\tlearn: 0.0692371\ttotal: 579ms\tremaining: 1.55s\n",
      "136:\tlearn: 0.0690439\ttotal: 580ms\tremaining: 1.54s\n",
      "137:\tlearn: 0.0689720\ttotal: 582ms\tremaining: 1.53s\n",
      "138:\tlearn: 0.0687911\ttotal: 584ms\tremaining: 1.52s\n",
      "139:\tlearn: 0.0686536\ttotal: 586ms\tremaining: 1.51s\n",
      "140:\tlearn: 0.0685876\ttotal: 588ms\tremaining: 1.5s\n",
      "141:\tlearn: 0.0685302\ttotal: 590ms\tremaining: 1.49s\n",
      "142:\tlearn: 0.0684000\ttotal: 592ms\tremaining: 1.48s\n",
      "143:\tlearn: 0.0682481\ttotal: 593ms\tremaining: 1.47s\n",
      "144:\tlearn: 0.0681937\ttotal: 595ms\tremaining: 1.46s\n",
      "145:\tlearn: 0.0680268\ttotal: 597ms\tremaining: 1.45s\n",
      "146:\tlearn: 0.0679858\ttotal: 599ms\tremaining: 1.44s\n",
      "147:\tlearn: 0.0679281\ttotal: 602ms\tremaining: 1.43s\n",
      "148:\tlearn: 0.0677943\ttotal: 603ms\tremaining: 1.42s\n",
      "149:\tlearn: 0.0677536\ttotal: 605ms\tremaining: 1.41s\n",
      "150:\tlearn: 0.0677125\ttotal: 607ms\tremaining: 1.4s\n",
      "151:\tlearn: 0.0676675\ttotal: 610ms\tremaining: 1.4s\n",
      "152:\tlearn: 0.0675473\ttotal: 613ms\tremaining: 1.39s\n",
      "153:\tlearn: 0.0674293\ttotal: 615ms\tremaining: 1.38s\n",
      "154:\tlearn: 0.0673790\ttotal: 617ms\tremaining: 1.37s\n",
      "155:\tlearn: 0.0673266\ttotal: 619ms\tremaining: 1.36s\n",
      "156:\tlearn: 0.0672908\ttotal: 621ms\tremaining: 1.36s\n",
      "157:\tlearn: 0.0672607\ttotal: 625ms\tremaining: 1.35s\n",
      "158:\tlearn: 0.0671429\ttotal: 627ms\tremaining: 1.34s\n",
      "159:\tlearn: 0.0671228\ttotal: 630ms\tremaining: 1.34s\n",
      "160:\tlearn: 0.0670176\ttotal: 634ms\tremaining: 1.33s\n",
      "161:\tlearn: 0.0669994\ttotal: 635ms\tremaining: 1.32s\n",
      "162:\tlearn: 0.0669055\ttotal: 637ms\tremaining: 1.32s\n",
      "163:\tlearn: 0.0668917\ttotal: 639ms\tremaining: 1.31s\n",
      "164:\tlearn: 0.0668579\ttotal: 641ms\tremaining: 1.3s\n",
      "165:\tlearn: 0.0668324\ttotal: 645ms\tremaining: 1.3s\n",
      "166:\tlearn: 0.0667933\ttotal: 648ms\tremaining: 1.29s\n",
      "167:\tlearn: 0.0667514\ttotal: 650ms\tremaining: 1.28s\n",
      "168:\tlearn: 0.0667189\ttotal: 652ms\tremaining: 1.28s\n",
      "169:\tlearn: 0.0666158\ttotal: 654ms\tremaining: 1.27s\n",
      "170:\tlearn: 0.0665832\ttotal: 656ms\tremaining: 1.26s\n",
      "171:\tlearn: 0.0664967\ttotal: 658ms\tremaining: 1.25s\n",
      "172:\tlearn: 0.0664808\ttotal: 659ms\tremaining: 1.25s\n",
      "173:\tlearn: 0.0664667\ttotal: 661ms\tremaining: 1.24s\n",
      "174:\tlearn: 0.0664288\ttotal: 664ms\tremaining: 1.23s\n",
      "175:\tlearn: 0.0664141\ttotal: 666ms\tremaining: 1.23s\n",
      "176:\tlearn: 0.0663717\ttotal: 668ms\tremaining: 1.22s\n",
      "177:\tlearn: 0.0663549\ttotal: 671ms\tremaining: 1.21s\n",
      "178:\tlearn: 0.0663341\ttotal: 674ms\tremaining: 1.21s\n",
      "179:\tlearn: 0.0662553\ttotal: 676ms\tremaining: 1.2s\n",
      "180:\tlearn: 0.0662449\ttotal: 677ms\tremaining: 1.19s\n",
      "181:\tlearn: 0.0662088\ttotal: 679ms\tremaining: 1.19s\n",
      "182:\tlearn: 0.0661800\ttotal: 681ms\tremaining: 1.18s\n",
      "183:\tlearn: 0.0661042\ttotal: 683ms\tremaining: 1.17s\n",
      "184:\tlearn: 0.0660126\ttotal: 686ms\tremaining: 1.17s\n",
      "185:\tlearn: 0.0659918\ttotal: 688ms\tremaining: 1.16s\n",
      "186:\tlearn: 0.0659691\ttotal: 690ms\tremaining: 1.16s\n",
      "187:\tlearn: 0.0658909\ttotal: 692ms\tremaining: 1.15s\n",
      "188:\tlearn: 0.0658675\ttotal: 694ms\tremaining: 1.14s\n",
      "189:\tlearn: 0.0657839\ttotal: 696ms\tremaining: 1.14s\n",
      "190:\tlearn: 0.0657777\ttotal: 697ms\tremaining: 1.13s\n",
      "191:\tlearn: 0.0657558\ttotal: 699ms\tremaining: 1.12s\n",
      "192:\tlearn: 0.0656756\ttotal: 702ms\tremaining: 1.11s\n",
      "193:\tlearn: 0.0656428\ttotal: 704ms\tremaining: 1.11s\n",
      "194:\tlearn: 0.0655697\ttotal: 705ms\tremaining: 1.1s\n",
      "195:\tlearn: 0.0655063\ttotal: 707ms\tremaining: 1.1s\n",
      "196:\tlearn: 0.0654788\ttotal: 709ms\tremaining: 1.09s\n",
      "197:\tlearn: 0.0653979\ttotal: 711ms\tremaining: 1.08s\n",
      "198:\tlearn: 0.0653725\ttotal: 713ms\tremaining: 1.08s\n",
      "199:\tlearn: 0.0653064\ttotal: 715ms\tremaining: 1.07s\n",
      "200:\tlearn: 0.0652691\ttotal: 717ms\tremaining: 1.07s\n",
      "201:\tlearn: 0.0652003\ttotal: 719ms\tremaining: 1.06s\n",
      "202:\tlearn: 0.0651897\ttotal: 721ms\tremaining: 1.05s\n",
      "203:\tlearn: 0.0651753\ttotal: 723ms\tremaining: 1.05s\n",
      "204:\tlearn: 0.0651310\ttotal: 725ms\tremaining: 1.04s\n",
      "205:\tlearn: 0.0650619\ttotal: 727ms\tremaining: 1.04s\n",
      "206:\tlearn: 0.0650306\ttotal: 730ms\tremaining: 1.03s\n",
      "207:\tlearn: 0.0649757\ttotal: 731ms\tremaining: 1.02s\n",
      "208:\tlearn: 0.0649140\ttotal: 733ms\tremaining: 1.02s\n",
      "209:\tlearn: 0.0648938\ttotal: 735ms\tremaining: 1.01s\n",
      "210:\tlearn: 0.0648804\ttotal: 736ms\tremaining: 1.01s\n",
      "211:\tlearn: 0.0648571\ttotal: 738ms\tremaining: 1s\n",
      "212:\tlearn: 0.0648191\ttotal: 740ms\tremaining: 997ms\n",
      "213:\tlearn: 0.0647247\ttotal: 742ms\tremaining: 992ms\n",
      "214:\tlearn: 0.0647156\ttotal: 744ms\tremaining: 986ms\n",
      "215:\tlearn: 0.0646547\ttotal: 746ms\tremaining: 980ms\n",
      "216:\tlearn: 0.0646472\ttotal: 747ms\tremaining: 974ms\n",
      "217:\tlearn: 0.0646354\ttotal: 749ms\tremaining: 969ms\n",
      "218:\tlearn: 0.0646148\ttotal: 751ms\tremaining: 963ms\n",
      "219:\tlearn: 0.0646008\ttotal: 753ms\tremaining: 958ms\n"
     ]
    },
    {
     "name": "stdout",
     "output_type": "stream",
     "text": [
      "220:\tlearn: 0.0645295\ttotal: 755ms\tremaining: 953ms\n",
      "221:\tlearn: 0.0644820\ttotal: 758ms\tremaining: 949ms\n",
      "222:\tlearn: 0.0644155\ttotal: 760ms\tremaining: 944ms\n",
      "223:\tlearn: 0.0643934\ttotal: 762ms\tremaining: 939ms\n",
      "224:\tlearn: 0.0643819\ttotal: 764ms\tremaining: 934ms\n",
      "225:\tlearn: 0.0643726\ttotal: 766ms\tremaining: 929ms\n",
      "226:\tlearn: 0.0643579\ttotal: 769ms\tremaining: 924ms\n",
      "227:\tlearn: 0.0643371\ttotal: 772ms\tremaining: 920ms\n",
      "228:\tlearn: 0.0642711\ttotal: 774ms\tremaining: 916ms\n",
      "229:\tlearn: 0.0642709\ttotal: 775ms\tremaining: 910ms\n",
      "230:\tlearn: 0.0642630\ttotal: 777ms\tremaining: 905ms\n",
      "231:\tlearn: 0.0642429\ttotal: 779ms\tremaining: 900ms\n",
      "232:\tlearn: 0.0641826\ttotal: 781ms\tremaining: 895ms\n",
      "233:\tlearn: 0.0641826\ttotal: 783ms\tremaining: 890ms\n",
      "234:\tlearn: 0.0641693\ttotal: 785ms\tremaining: 885ms\n",
      "235:\tlearn: 0.0641449\ttotal: 787ms\tremaining: 880ms\n",
      "236:\tlearn: 0.0641376\ttotal: 788ms\tremaining: 875ms\n",
      "237:\tlearn: 0.0641376\ttotal: 791ms\tremaining: 870ms\n",
      "238:\tlearn: 0.0641147\ttotal: 793ms\tremaining: 866ms\n",
      "239:\tlearn: 0.0641047\ttotal: 795ms\tremaining: 861ms\n",
      "240:\tlearn: 0.0640397\ttotal: 797ms\tremaining: 857ms\n",
      "241:\tlearn: 0.0640397\ttotal: 798ms\tremaining: 851ms\n",
      "242:\tlearn: 0.0639691\ttotal: 800ms\tremaining: 847ms\n",
      "243:\tlearn: 0.0639165\ttotal: 802ms\tremaining: 842ms\n",
      "244:\tlearn: 0.0638596\ttotal: 804ms\tremaining: 837ms\n",
      "245:\tlearn: 0.0638596\ttotal: 806ms\tremaining: 832ms\n",
      "246:\tlearn: 0.0638481\ttotal: 808ms\tremaining: 828ms\n",
      "247:\tlearn: 0.0638081\ttotal: 810ms\tremaining: 824ms\n",
      "248:\tlearn: 0.0637898\ttotal: 813ms\tremaining: 820ms\n",
      "249:\tlearn: 0.0637382\ttotal: 815ms\tremaining: 815ms\n",
      "250:\tlearn: 0.0637286\ttotal: 817ms\tremaining: 810ms\n",
      "251:\tlearn: 0.0636789\ttotal: 819ms\tremaining: 806ms\n",
      "252:\tlearn: 0.0636531\ttotal: 821ms\tremaining: 801ms\n",
      "253:\tlearn: 0.0636470\ttotal: 822ms\tremaining: 796ms\n",
      "254:\tlearn: 0.0636003\ttotal: 824ms\tremaining: 792ms\n",
      "255:\tlearn: 0.0635679\ttotal: 826ms\tremaining: 787ms\n",
      "256:\tlearn: 0.0635614\ttotal: 827ms\tremaining: 782ms\n",
      "257:\tlearn: 0.0635153\ttotal: 829ms\tremaining: 778ms\n",
      "258:\tlearn: 0.0635051\ttotal: 831ms\tremaining: 773ms\n",
      "259:\tlearn: 0.0634784\ttotal: 833ms\tremaining: 769ms\n",
      "260:\tlearn: 0.0634464\ttotal: 835ms\tremaining: 765ms\n",
      "261:\tlearn: 0.0634464\ttotal: 837ms\tremaining: 760ms\n",
      "262:\tlearn: 0.0634320\ttotal: 839ms\tremaining: 756ms\n",
      "263:\tlearn: 0.0633855\ttotal: 841ms\tremaining: 752ms\n",
      "264:\tlearn: 0.0633237\ttotal: 843ms\tremaining: 748ms\n",
      "265:\tlearn: 0.0633184\ttotal: 845ms\tremaining: 743ms\n",
      "266:\tlearn: 0.0632878\ttotal: 847ms\tremaining: 739ms\n",
      "267:\tlearn: 0.0632878\ttotal: 849ms\tremaining: 735ms\n",
      "268:\tlearn: 0.0632835\ttotal: 850ms\tremaining: 730ms\n",
      "269:\tlearn: 0.0632714\ttotal: 852ms\tremaining: 726ms\n",
      "270:\tlearn: 0.0632253\ttotal: 854ms\tremaining: 722ms\n",
      "271:\tlearn: 0.0632207\ttotal: 856ms\tremaining: 718ms\n",
      "272:\tlearn: 0.0632151\ttotal: 858ms\tremaining: 713ms\n",
      "273:\tlearn: 0.0631795\ttotal: 860ms\tremaining: 709ms\n",
      "274:\tlearn: 0.0631795\ttotal: 861ms\tremaining: 705ms\n",
      "275:\tlearn: 0.0631508\ttotal: 864ms\tremaining: 701ms\n",
      "276:\tlearn: 0.0631151\ttotal: 866ms\tremaining: 697ms\n",
      "277:\tlearn: 0.0631012\ttotal: 868ms\tremaining: 693ms\n",
      "278:\tlearn: 0.0630894\ttotal: 870ms\tremaining: 689ms\n",
      "279:\tlearn: 0.0630627\ttotal: 872ms\tremaining: 685ms\n",
      "280:\tlearn: 0.0630627\ttotal: 873ms\tremaining: 680ms\n",
      "281:\tlearn: 0.0630553\ttotal: 875ms\tremaining: 676ms\n",
      "282:\tlearn: 0.0630451\ttotal: 877ms\tremaining: 672ms\n",
      "283:\tlearn: 0.0630321\ttotal: 879ms\tremaining: 669ms\n",
      "284:\tlearn: 0.0630213\ttotal: 881ms\tremaining: 665ms\n",
      "285:\tlearn: 0.0629873\ttotal: 883ms\tremaining: 661ms\n",
      "286:\tlearn: 0.0629744\ttotal: 885ms\tremaining: 657ms\n",
      "287:\tlearn: 0.0629607\ttotal: 887ms\tremaining: 653ms\n",
      "288:\tlearn: 0.0629481\ttotal: 889ms\tremaining: 649ms\n",
      "289:\tlearn: 0.0629246\ttotal: 891ms\tremaining: 645ms\n",
      "290:\tlearn: 0.0628974\ttotal: 893ms\tremaining: 641ms\n",
      "291:\tlearn: 0.0628637\ttotal: 895ms\tremaining: 638ms\n",
      "292:\tlearn: 0.0628246\ttotal: 897ms\tremaining: 634ms\n",
      "293:\tlearn: 0.0627884\ttotal: 899ms\tremaining: 630ms\n",
      "294:\tlearn: 0.0627810\ttotal: 901ms\tremaining: 626ms\n",
      "295:\tlearn: 0.0627746\ttotal: 903ms\tremaining: 623ms\n",
      "296:\tlearn: 0.0627551\ttotal: 905ms\tremaining: 619ms\n",
      "297:\tlearn: 0.0627416\ttotal: 907ms\tremaining: 615ms\n",
      "298:\tlearn: 0.0627374\ttotal: 909ms\tremaining: 611ms\n",
      "299:\tlearn: 0.0627032\ttotal: 911ms\tremaining: 607ms\n",
      "300:\tlearn: 0.0626929\ttotal: 913ms\tremaining: 604ms\n",
      "301:\tlearn: 0.0626929\ttotal: 914ms\tremaining: 600ms\n",
      "302:\tlearn: 0.0626904\ttotal: 916ms\tremaining: 595ms\n",
      "303:\tlearn: 0.0626730\ttotal: 919ms\tremaining: 592ms\n",
      "304:\tlearn: 0.0626605\ttotal: 921ms\tremaining: 589ms\n",
      "305:\tlearn: 0.0626495\ttotal: 923ms\tremaining: 585ms\n",
      "306:\tlearn: 0.0626495\ttotal: 925ms\tremaining: 582ms\n",
      "307:\tlearn: 0.0626375\ttotal: 927ms\tremaining: 578ms\n",
      "308:\tlearn: 0.0626300\ttotal: 930ms\tremaining: 575ms\n",
      "309:\tlearn: 0.0626255\ttotal: 933ms\tremaining: 572ms\n",
      "310:\tlearn: 0.0626129\ttotal: 935ms\tremaining: 568ms\n",
      "311:\tlearn: 0.0626041\ttotal: 937ms\tremaining: 564ms\n",
      "312:\tlearn: 0.0626005\ttotal: 938ms\tremaining: 560ms\n",
      "313:\tlearn: 0.0625944\ttotal: 940ms\tremaining: 557ms\n",
      "314:\tlearn: 0.0625842\ttotal: 943ms\tremaining: 554ms\n",
      "315:\tlearn: 0.0625711\ttotal: 945ms\tremaining: 550ms\n",
      "316:\tlearn: 0.0625392\ttotal: 947ms\tremaining: 547ms\n",
      "317:\tlearn: 0.0625288\ttotal: 949ms\tremaining: 543ms\n",
      "318:\tlearn: 0.0625191\ttotal: 951ms\tremaining: 540ms\n",
      "319:\tlearn: 0.0625191\ttotal: 953ms\tremaining: 536ms\n",
      "320:\tlearn: 0.0624623\ttotal: 955ms\tremaining: 532ms\n",
      "321:\tlearn: 0.0624196\ttotal: 956ms\tremaining: 529ms\n",
      "322:\tlearn: 0.0623981\ttotal: 957ms\tremaining: 525ms\n",
      "323:\tlearn: 0.0623981\ttotal: 960ms\tremaining: 521ms\n",
      "324:\tlearn: 0.0623939\ttotal: 961ms\tremaining: 518ms\n",
      "325:\tlearn: 0.0623857\ttotal: 963ms\tremaining: 514ms\n",
      "326:\tlearn: 0.0623534\ttotal: 965ms\tremaining: 511ms\n",
      "327:\tlearn: 0.0623433\ttotal: 967ms\tremaining: 507ms\n",
      "328:\tlearn: 0.0623140\ttotal: 969ms\tremaining: 504ms\n",
      "329:\tlearn: 0.0622788\ttotal: 971ms\tremaining: 500ms\n",
      "330:\tlearn: 0.0622482\ttotal: 974ms\tremaining: 497ms\n",
      "331:\tlearn: 0.0622104\ttotal: 976ms\tremaining: 494ms\n",
      "332:\tlearn: 0.0622077\ttotal: 977ms\tremaining: 490ms\n",
      "333:\tlearn: 0.0621710\ttotal: 979ms\tremaining: 487ms\n",
      "334:\tlearn: 0.0621506\ttotal: 981ms\tremaining: 483ms\n",
      "335:\tlearn: 0.0620906\ttotal: 983ms\tremaining: 480ms\n",
      "336:\tlearn: 0.0620676\ttotal: 985ms\tremaining: 477ms\n",
      "337:\tlearn: 0.0620544\ttotal: 987ms\tremaining: 473ms\n",
      "338:\tlearn: 0.0620468\ttotal: 989ms\tremaining: 470ms\n",
      "339:\tlearn: 0.0620444\ttotal: 991ms\tremaining: 466ms\n",
      "340:\tlearn: 0.0620352\ttotal: 992ms\tremaining: 463ms\n",
      "341:\tlearn: 0.0620279\ttotal: 994ms\tremaining: 459ms\n",
      "342:\tlearn: 0.0620279\ttotal: 996ms\tremaining: 456ms\n",
      "343:\tlearn: 0.0620205\ttotal: 998ms\tremaining: 452ms\n",
      "344:\tlearn: 0.0620205\ttotal: 999ms\tremaining: 449ms\n",
      "345:\tlearn: 0.0619889\ttotal: 1s\tremaining: 446ms\n",
      "346:\tlearn: 0.0619706\ttotal: 1s\tremaining: 442ms\n",
      "347:\tlearn: 0.0619706\ttotal: 1s\tremaining: 439ms\n",
      "348:\tlearn: 0.0619486\ttotal: 1.01s\tremaining: 436ms\n",
      "349:\tlearn: 0.0619350\ttotal: 1.01s\tremaining: 433ms\n",
      "350:\tlearn: 0.0618872\ttotal: 1.01s\tremaining: 429ms\n",
      "351:\tlearn: 0.0618844\ttotal: 1.01s\tremaining: 426ms\n",
      "352:\tlearn: 0.0618388\ttotal: 1.01s\tremaining: 423ms\n",
      "353:\tlearn: 0.0618388\ttotal: 1.02s\tremaining: 419ms\n",
      "354:\tlearn: 0.0618388\ttotal: 1.02s\tremaining: 415ms\n",
      "355:\tlearn: 0.0618080\ttotal: 1.02s\tremaining: 412ms\n",
      "356:\tlearn: 0.0617817\ttotal: 1.02s\tremaining: 409ms\n",
      "357:\tlearn: 0.0617691\ttotal: 1.02s\tremaining: 406ms\n",
      "358:\tlearn: 0.0617566\ttotal: 1.03s\tremaining: 403ms\n",
      "359:\tlearn: 0.0617482\ttotal: 1.03s\tremaining: 400ms\n",
      "360:\tlearn: 0.0617384\ttotal: 1.03s\tremaining: 397ms\n",
      "361:\tlearn: 0.0616945\ttotal: 1.03s\tremaining: 394ms\n",
      "362:\tlearn: 0.0616761\ttotal: 1.03s\tremaining: 390ms\n",
      "363:\tlearn: 0.0616587\ttotal: 1.04s\tremaining: 388ms\n",
      "364:\tlearn: 0.0616587\ttotal: 1.04s\tremaining: 384ms\n",
      "365:\tlearn: 0.0616587\ttotal: 1.04s\tremaining: 381ms\n",
      "366:\tlearn: 0.0616587\ttotal: 1.04s\tremaining: 378ms\n",
      "367:\tlearn: 0.0616531\ttotal: 1.04s\tremaining: 375ms\n",
      "368:\tlearn: 0.0616454\ttotal: 1.05s\tremaining: 372ms\n",
      "369:\tlearn: 0.0616125\ttotal: 1.05s\tremaining: 369ms\n",
      "370:\tlearn: 0.0616123\ttotal: 1.05s\tremaining: 365ms\n",
      "371:\tlearn: 0.0616049\ttotal: 1.05s\tremaining: 362ms\n",
      "372:\tlearn: 0.0615876\ttotal: 1.05s\tremaining: 359ms\n",
      "373:\tlearn: 0.0615876\ttotal: 1.06s\tremaining: 356ms\n",
      "374:\tlearn: 0.0615854\ttotal: 1.06s\tremaining: 353ms\n",
      "375:\tlearn: 0.0615750\ttotal: 1.06s\tremaining: 350ms\n",
      "376:\tlearn: 0.0615328\ttotal: 1.06s\tremaining: 347ms\n",
      "377:\tlearn: 0.0615328\ttotal: 1.06s\tremaining: 343ms\n",
      "378:\tlearn: 0.0615262\ttotal: 1.07s\tremaining: 340ms\n",
      "379:\tlearn: 0.0615198\ttotal: 1.07s\tremaining: 338ms\n",
      "380:\tlearn: 0.0615120\ttotal: 1.07s\tremaining: 334ms\n"
     ]
    },
    {
     "name": "stdout",
     "output_type": "stream",
     "text": [
      "381:\tlearn: 0.0615120\ttotal: 1.07s\tremaining: 331ms\n",
      "382:\tlearn: 0.0614952\ttotal: 1.07s\tremaining: 328ms\n",
      "383:\tlearn: 0.0614735\ttotal: 1.08s\tremaining: 325ms\n",
      "384:\tlearn: 0.0614655\ttotal: 1.08s\tremaining: 322ms\n",
      "385:\tlearn: 0.0614212\ttotal: 1.08s\tremaining: 319ms\n",
      "386:\tlearn: 0.0614048\ttotal: 1.08s\tremaining: 316ms\n",
      "387:\tlearn: 0.0614048\ttotal: 1.08s\tremaining: 313ms\n",
      "388:\tlearn: 0.0613994\ttotal: 1.09s\tremaining: 311ms\n",
      "389:\tlearn: 0.0613925\ttotal: 1.09s\tremaining: 308ms\n",
      "390:\tlearn: 0.0613898\ttotal: 1.09s\tremaining: 305ms\n",
      "391:\tlearn: 0.0613864\ttotal: 1.09s\tremaining: 302ms\n",
      "392:\tlearn: 0.0613381\ttotal: 1.1s\tremaining: 299ms\n",
      "393:\tlearn: 0.0613221\ttotal: 1.1s\tremaining: 296ms\n",
      "394:\tlearn: 0.0613221\ttotal: 1.1s\tremaining: 293ms\n",
      "395:\tlearn: 0.0613160\ttotal: 1.1s\tremaining: 290ms\n",
      "396:\tlearn: 0.0612832\ttotal: 1.11s\tremaining: 287ms\n",
      "397:\tlearn: 0.0612832\ttotal: 1.11s\tremaining: 284ms\n",
      "398:\tlearn: 0.0612629\ttotal: 1.11s\tremaining: 281ms\n",
      "399:\tlearn: 0.0612629\ttotal: 1.11s\tremaining: 278ms\n",
      "400:\tlearn: 0.0612486\ttotal: 1.11s\tremaining: 275ms\n",
      "401:\tlearn: 0.0612473\ttotal: 1.12s\tremaining: 272ms\n",
      "402:\tlearn: 0.0612361\ttotal: 1.12s\tremaining: 269ms\n",
      "403:\tlearn: 0.0612246\ttotal: 1.12s\tremaining: 266ms\n",
      "404:\tlearn: 0.0612050\ttotal: 1.12s\tremaining: 264ms\n",
      "405:\tlearn: 0.0611970\ttotal: 1.12s\tremaining: 260ms\n",
      "406:\tlearn: 0.0611970\ttotal: 1.13s\tremaining: 257ms\n",
      "407:\tlearn: 0.0611895\ttotal: 1.13s\tremaining: 255ms\n",
      "408:\tlearn: 0.0611820\ttotal: 1.13s\tremaining: 252ms\n",
      "409:\tlearn: 0.0611785\ttotal: 1.13s\tremaining: 249ms\n",
      "410:\tlearn: 0.0611785\ttotal: 1.14s\tremaining: 246ms\n",
      "411:\tlearn: 0.0611785\ttotal: 1.14s\tremaining: 243ms\n",
      "412:\tlearn: 0.0611785\ttotal: 1.14s\tremaining: 240ms\n",
      "413:\tlearn: 0.0611539\ttotal: 1.14s\tremaining: 237ms\n",
      "414:\tlearn: 0.0611539\ttotal: 1.14s\tremaining: 234ms\n",
      "415:\tlearn: 0.0611539\ttotal: 1.14s\tremaining: 231ms\n",
      "416:\tlearn: 0.0611449\ttotal: 1.15s\tremaining: 228ms\n",
      "417:\tlearn: 0.0611366\ttotal: 1.15s\tremaining: 226ms\n",
      "418:\tlearn: 0.0611317\ttotal: 1.15s\tremaining: 223ms\n",
      "419:\tlearn: 0.0611221\ttotal: 1.15s\tremaining: 220ms\n",
      "420:\tlearn: 0.0611221\ttotal: 1.16s\tremaining: 217ms\n",
      "421:\tlearn: 0.0611162\ttotal: 1.16s\tremaining: 214ms\n",
      "422:\tlearn: 0.0611105\ttotal: 1.16s\tremaining: 211ms\n",
      "423:\tlearn: 0.0611105\ttotal: 1.16s\tremaining: 208ms\n",
      "424:\tlearn: 0.0610987\ttotal: 1.16s\tremaining: 205ms\n",
      "425:\tlearn: 0.0610783\ttotal: 1.17s\tremaining: 203ms\n",
      "426:\tlearn: 0.0610729\ttotal: 1.17s\tremaining: 200ms\n",
      "427:\tlearn: 0.0610596\ttotal: 1.17s\tremaining: 197ms\n",
      "428:\tlearn: 0.0610595\ttotal: 1.17s\tremaining: 194ms\n",
      "429:\tlearn: 0.0610526\ttotal: 1.18s\tremaining: 191ms\n",
      "430:\tlearn: 0.0610421\ttotal: 1.18s\tremaining: 188ms\n",
      "431:\tlearn: 0.0610389\ttotal: 1.18s\tremaining: 186ms\n",
      "432:\tlearn: 0.0610333\ttotal: 1.18s\tremaining: 183ms\n",
      "433:\tlearn: 0.0610267\ttotal: 1.18s\tremaining: 180ms\n",
      "434:\tlearn: 0.0610267\ttotal: 1.18s\tremaining: 177ms\n",
      "435:\tlearn: 0.0610267\ttotal: 1.19s\tremaining: 174ms\n",
      "436:\tlearn: 0.0610210\ttotal: 1.19s\tremaining: 171ms\n",
      "437:\tlearn: 0.0610116\ttotal: 1.19s\tremaining: 169ms\n",
      "438:\tlearn: 0.0610082\ttotal: 1.19s\tremaining: 166ms\n",
      "439:\tlearn: 0.0610082\ttotal: 1.19s\tremaining: 163ms\n",
      "440:\tlearn: 0.0610072\ttotal: 1.2s\tremaining: 160ms\n",
      "441:\tlearn: 0.0610000\ttotal: 1.2s\tremaining: 157ms\n",
      "442:\tlearn: 0.0609902\ttotal: 1.2s\tremaining: 155ms\n",
      "443:\tlearn: 0.0609902\ttotal: 1.2s\tremaining: 152ms\n",
      "444:\tlearn: 0.0609771\ttotal: 1.2s\tremaining: 149ms\n",
      "445:\tlearn: 0.0609709\ttotal: 1.21s\tremaining: 146ms\n",
      "446:\tlearn: 0.0609666\ttotal: 1.21s\tremaining: 143ms\n",
      "447:\tlearn: 0.0609587\ttotal: 1.21s\tremaining: 141ms\n",
      "448:\tlearn: 0.0609587\ttotal: 1.21s\tremaining: 138ms\n",
      "449:\tlearn: 0.0609121\ttotal: 1.21s\tremaining: 135ms\n",
      "450:\tlearn: 0.0609036\ttotal: 1.22s\tremaining: 132ms\n",
      "451:\tlearn: 0.0608976\ttotal: 1.22s\tremaining: 129ms\n",
      "452:\tlearn: 0.0608560\ttotal: 1.22s\tremaining: 127ms\n",
      "453:\tlearn: 0.0608509\ttotal: 1.22s\tremaining: 124ms\n",
      "454:\tlearn: 0.0608462\ttotal: 1.22s\tremaining: 121ms\n",
      "455:\tlearn: 0.0608208\ttotal: 1.23s\tremaining: 118ms\n",
      "456:\tlearn: 0.0608078\ttotal: 1.23s\tremaining: 116ms\n",
      "457:\tlearn: 0.0607934\ttotal: 1.23s\tremaining: 113ms\n",
      "458:\tlearn: 0.0607887\ttotal: 1.23s\tremaining: 110ms\n",
      "459:\tlearn: 0.0607819\ttotal: 1.24s\tremaining: 107ms\n",
      "460:\tlearn: 0.0607751\ttotal: 1.24s\tremaining: 105ms\n",
      "461:\tlearn: 0.0607470\ttotal: 1.24s\tremaining: 102ms\n",
      "462:\tlearn: 0.0607470\ttotal: 1.24s\tremaining: 99.2ms\n",
      "463:\tlearn: 0.0607408\ttotal: 1.24s\tremaining: 96.5ms\n",
      "464:\tlearn: 0.0607408\ttotal: 1.24s\tremaining: 93.7ms\n",
      "465:\tlearn: 0.0607298\ttotal: 1.25s\tremaining: 91ms\n",
      "466:\tlearn: 0.0607245\ttotal: 1.25s\tremaining: 88.2ms\n",
      "467:\tlearn: 0.0607163\ttotal: 1.25s\tremaining: 85.6ms\n",
      "468:\tlearn: 0.0607163\ttotal: 1.25s\tremaining: 82.8ms\n",
      "469:\tlearn: 0.0607060\ttotal: 1.25s\tremaining: 80.1ms\n",
      "470:\tlearn: 0.0607053\ttotal: 1.26s\tremaining: 77.4ms\n",
      "471:\tlearn: 0.0607053\ttotal: 1.26s\tremaining: 74.6ms\n",
      "472:\tlearn: 0.0607053\ttotal: 1.26s\tremaining: 71.9ms\n",
      "473:\tlearn: 0.0606792\ttotal: 1.26s\tremaining: 69.2ms\n",
      "474:\tlearn: 0.0606792\ttotal: 1.26s\tremaining: 66.5ms\n",
      "475:\tlearn: 0.0606766\ttotal: 1.26s\tremaining: 63.8ms\n",
      "476:\tlearn: 0.0606662\ttotal: 1.27s\tremaining: 61.1ms\n",
      "477:\tlearn: 0.0606632\ttotal: 1.27s\tremaining: 58.4ms\n",
      "478:\tlearn: 0.0606535\ttotal: 1.27s\tremaining: 55.7ms\n",
      "479:\tlearn: 0.0606442\ttotal: 1.27s\tremaining: 53.1ms\n",
      "480:\tlearn: 0.0606409\ttotal: 1.27s\tremaining: 50.4ms\n",
      "481:\tlearn: 0.0606409\ttotal: 1.28s\tremaining: 47.7ms\n",
      "482:\tlearn: 0.0606409\ttotal: 1.28s\tremaining: 45ms\n",
      "483:\tlearn: 0.0606364\ttotal: 1.28s\tremaining: 42.4ms\n",
      "484:\tlearn: 0.0606363\ttotal: 1.28s\tremaining: 39.7ms\n",
      "485:\tlearn: 0.0606363\ttotal: 1.28s\tremaining: 37ms\n",
      "486:\tlearn: 0.0606228\ttotal: 1.29s\tremaining: 34.3ms\n",
      "487:\tlearn: 0.0606172\ttotal: 1.29s\tremaining: 31.7ms\n",
      "488:\tlearn: 0.0606102\ttotal: 1.29s\tremaining: 29ms\n",
      "489:\tlearn: 0.0606102\ttotal: 1.29s\tremaining: 26.4ms\n",
      "490:\tlearn: 0.0606101\ttotal: 1.29s\tremaining: 23.7ms\n",
      "491:\tlearn: 0.0606101\ttotal: 1.29s\tremaining: 21.1ms\n",
      "492:\tlearn: 0.0606099\ttotal: 1.3s\tremaining: 18.4ms\n",
      "493:\tlearn: 0.0606029\ttotal: 1.3s\tremaining: 15.8ms\n",
      "494:\tlearn: 0.0605982\ttotal: 1.3s\tremaining: 13.1ms\n",
      "495:\tlearn: 0.0605044\ttotal: 1.3s\tremaining: 10.5ms\n",
      "496:\tlearn: 0.0604956\ttotal: 1.3s\tremaining: 7.87ms\n",
      "497:\tlearn: 0.0604874\ttotal: 1.31s\tremaining: 5.25ms\n",
      "498:\tlearn: 0.0604873\ttotal: 1.31s\tremaining: 2.62ms\n",
      "499:\tlearn: 0.0604708\ttotal: 1.31s\tremaining: 0us\n"
     ]
    },
    {
     "data": {
      "text/plain": [
       "<catboost.core.CatBoostClassifier at 0x1e0da874670>"
      ]
     },
     "execution_count": 164,
     "metadata": {},
     "output_type": "execute_result"
    }
   ],
   "source": [
    "cat_model.fit(X_train,y_train)"
   ]
  },
  {
   "cell_type": "code",
   "execution_count": 165,
   "metadata": {},
   "outputs": [],
   "source": [
    "cat_predict=cat_model.predict(X_test)"
   ]
  },
  {
   "cell_type": "code",
   "execution_count": null,
   "metadata": {},
   "outputs": [],
   "source": []
  },
  {
   "cell_type": "code",
   "execution_count": null,
   "metadata": {},
   "outputs": [],
   "source": []
  },
  {
   "cell_type": "code",
   "execution_count": 170,
   "metadata": {},
   "outputs": [
    {
     "data": {
      "text/html": [
       "<div>\n",
       "<style scoped>\n",
       "    .dataframe tbody tr th:only-of-type {\n",
       "        vertical-align: middle;\n",
       "    }\n",
       "\n",
       "    .dataframe tbody tr th {\n",
       "        vertical-align: top;\n",
       "    }\n",
       "\n",
       "    .dataframe thead th {\n",
       "        text-align: right;\n",
       "    }\n",
       "</style>\n",
       "<table border=\"1\" class=\"dataframe\">\n",
       "  <thead>\n",
       "    <tr style=\"text-align: right;\">\n",
       "      <th></th>\n",
       "      <th>PassengerId</th>\n",
       "      <th>Survived</th>\n",
       "      <th>Pclass</th>\n",
       "      <th>Name</th>\n",
       "      <th>Sex</th>\n",
       "      <th>Age</th>\n",
       "      <th>SibSp</th>\n",
       "      <th>Parch</th>\n",
       "      <th>Ticket</th>\n",
       "      <th>Fare</th>\n",
       "      <th>Cabin</th>\n",
       "      <th>Embarked</th>\n",
       "      <th>(Age,)</th>\n",
       "    </tr>\n",
       "  </thead>\n",
       "  <tbody>\n",
       "    <tr>\n",
       "      <th>0</th>\n",
       "      <td>1</td>\n",
       "      <td>0</td>\n",
       "      <td>3</td>\n",
       "      <td>Braund, Mr. Owen Harris</td>\n",
       "      <td>male</td>\n",
       "      <td>22.0</td>\n",
       "      <td>1</td>\n",
       "      <td>0</td>\n",
       "      <td>A/5 21171</td>\n",
       "      <td>7.2500</td>\n",
       "      <td>NaN</td>\n",
       "      <td>S</td>\n",
       "      <td>NaN</td>\n",
       "    </tr>\n",
       "    <tr>\n",
       "      <th>1</th>\n",
       "      <td>2</td>\n",
       "      <td>1</td>\n",
       "      <td>1</td>\n",
       "      <td>Cumings, Mrs. John Bradley (Florence Briggs Th...</td>\n",
       "      <td>female</td>\n",
       "      <td>38.0</td>\n",
       "      <td>1</td>\n",
       "      <td>0</td>\n",
       "      <td>PC 17599</td>\n",
       "      <td>71.2833</td>\n",
       "      <td>C85</td>\n",
       "      <td>C</td>\n",
       "      <td>NaN</td>\n",
       "    </tr>\n",
       "    <tr>\n",
       "      <th>2</th>\n",
       "      <td>3</td>\n",
       "      <td>1</td>\n",
       "      <td>3</td>\n",
       "      <td>Heikkinen, Miss. Laina</td>\n",
       "      <td>female</td>\n",
       "      <td>26.0</td>\n",
       "      <td>0</td>\n",
       "      <td>0</td>\n",
       "      <td>STON/O2. 3101282</td>\n",
       "      <td>7.9250</td>\n",
       "      <td>NaN</td>\n",
       "      <td>S</td>\n",
       "      <td>NaN</td>\n",
       "    </tr>\n",
       "    <tr>\n",
       "      <th>3</th>\n",
       "      <td>4</td>\n",
       "      <td>1</td>\n",
       "      <td>1</td>\n",
       "      <td>Futrelle, Mrs. Jacques Heath (Lily May Peel)</td>\n",
       "      <td>female</td>\n",
       "      <td>35.0</td>\n",
       "      <td>1</td>\n",
       "      <td>0</td>\n",
       "      <td>113803</td>\n",
       "      <td>53.1000</td>\n",
       "      <td>C123</td>\n",
       "      <td>S</td>\n",
       "      <td>NaN</td>\n",
       "    </tr>\n",
       "    <tr>\n",
       "      <th>4</th>\n",
       "      <td>5</td>\n",
       "      <td>0</td>\n",
       "      <td>3</td>\n",
       "      <td>Allen, Mr. William Henry</td>\n",
       "      <td>male</td>\n",
       "      <td>35.0</td>\n",
       "      <td>0</td>\n",
       "      <td>0</td>\n",
       "      <td>373450</td>\n",
       "      <td>8.0500</td>\n",
       "      <td>NaN</td>\n",
       "      <td>S</td>\n",
       "      <td>NaN</td>\n",
       "    </tr>\n",
       "  </tbody>\n",
       "</table>\n",
       "</div>"
      ],
      "text/plain": [
       "   PassengerId  Survived  Pclass  \\\n",
       "0            1         0       3   \n",
       "1            2         1       1   \n",
       "2            3         1       3   \n",
       "3            4         1       1   \n",
       "4            5         0       3   \n",
       "\n",
       "                                                Name     Sex   Age  SibSp  \\\n",
       "0                            Braund, Mr. Owen Harris    male  22.0      1   \n",
       "1  Cumings, Mrs. John Bradley (Florence Briggs Th...  female  38.0      1   \n",
       "2                             Heikkinen, Miss. Laina  female  26.0      0   \n",
       "3       Futrelle, Mrs. Jacques Heath (Lily May Peel)  female  35.0      1   \n",
       "4                           Allen, Mr. William Henry    male  35.0      0   \n",
       "\n",
       "   Parch            Ticket     Fare Cabin Embarked  (Age,)  \n",
       "0      0         A/5 21171   7.2500   NaN        S     NaN  \n",
       "1      0          PC 17599  71.2833   C85        C     NaN  \n",
       "2      0  STON/O2. 3101282   7.9250   NaN        S     NaN  \n",
       "3      0            113803  53.1000  C123        S     NaN  \n",
       "4      0            373450   8.0500   NaN        S     NaN  "
      ]
     },
     "execution_count": 170,
     "metadata": {},
     "output_type": "execute_result"
    }
   ],
   "source": [
    "data.head()"
   ]
  },
  {
   "cell_type": "code",
   "execution_count": 171,
   "metadata": {},
   "outputs": [
    {
     "data": {
      "text/html": [
       "<div>\n",
       "<style scoped>\n",
       "    .dataframe tbody tr th:only-of-type {\n",
       "        vertical-align: middle;\n",
       "    }\n",
       "\n",
       "    .dataframe tbody tr th {\n",
       "        vertical-align: top;\n",
       "    }\n",
       "\n",
       "    .dataframe thead th {\n",
       "        text-align: right;\n",
       "    }\n",
       "</style>\n",
       "<table border=\"1\" class=\"dataframe\">\n",
       "  <thead>\n",
       "    <tr style=\"text-align: right;\">\n",
       "      <th></th>\n",
       "      <th>Pclass</th>\n",
       "      <th>Sex</th>\n",
       "      <th>Age</th>\n",
       "      <th>SibSp</th>\n",
       "      <th>Parch</th>\n",
       "      <th>Fare</th>\n",
       "      <th>Q_cabin</th>\n",
       "      <th>S_cabin</th>\n",
       "    </tr>\n",
       "  </thead>\n",
       "  <tbody>\n",
       "    <tr>\n",
       "      <th>0</th>\n",
       "      <td>3</td>\n",
       "      <td>1</td>\n",
       "      <td>22.0</td>\n",
       "      <td>1</td>\n",
       "      <td>0</td>\n",
       "      <td>7.2500</td>\n",
       "      <td>0</td>\n",
       "      <td>1</td>\n",
       "    </tr>\n",
       "    <tr>\n",
       "      <th>1</th>\n",
       "      <td>1</td>\n",
       "      <td>0</td>\n",
       "      <td>38.0</td>\n",
       "      <td>1</td>\n",
       "      <td>0</td>\n",
       "      <td>71.2833</td>\n",
       "      <td>0</td>\n",
       "      <td>0</td>\n",
       "    </tr>\n",
       "    <tr>\n",
       "      <th>2</th>\n",
       "      <td>3</td>\n",
       "      <td>0</td>\n",
       "      <td>26.0</td>\n",
       "      <td>0</td>\n",
       "      <td>0</td>\n",
       "      <td>7.9250</td>\n",
       "      <td>0</td>\n",
       "      <td>1</td>\n",
       "    </tr>\n",
       "    <tr>\n",
       "      <th>3</th>\n",
       "      <td>1</td>\n",
       "      <td>0</td>\n",
       "      <td>35.0</td>\n",
       "      <td>1</td>\n",
       "      <td>0</td>\n",
       "      <td>53.1000</td>\n",
       "      <td>0</td>\n",
       "      <td>1</td>\n",
       "    </tr>\n",
       "    <tr>\n",
       "      <th>4</th>\n",
       "      <td>3</td>\n",
       "      <td>1</td>\n",
       "      <td>35.0</td>\n",
       "      <td>0</td>\n",
       "      <td>0</td>\n",
       "      <td>8.0500</td>\n",
       "      <td>0</td>\n",
       "      <td>1</td>\n",
       "    </tr>\n",
       "  </tbody>\n",
       "</table>\n",
       "</div>"
      ],
      "text/plain": [
       "   Pclass  Sex   Age  SibSp  Parch     Fare  Q_cabin  S_cabin\n",
       "0       3    1  22.0      1      0   7.2500        0        1\n",
       "1       1    0  38.0      1      0  71.2833        0        0\n",
       "2       3    0  26.0      0      0   7.9250        0        1\n",
       "3       1    0  35.0      1      0  53.1000        0        1\n",
       "4       3    1  35.0      0      0   8.0500        0        1"
      ]
     },
     "execution_count": 171,
     "metadata": {},
     "output_type": "execute_result"
    }
   ],
   "source": [
    "data_x.head()"
   ]
  },
  {
   "cell_type": "code",
   "execution_count": 176,
   "metadata": {},
   "outputs": [],
   "source": [
    "input=(1 ,0 ,38.0 ,1 ,0 ,71.2833 ,0 ,0)\n",
    "ary_in=(np.asarray(input)).reshape(1,-1)"
   ]
  },
  {
   "cell_type": "code",
   "execution_count": 177,
   "metadata": {},
   "outputs": [
    {
     "data": {
      "text/plain": [
       "array([[ 1.    ,  0.    , 38.    ,  1.    ,  0.    , 71.2833,  0.    ,\n",
       "         0.    ]])"
      ]
     },
     "execution_count": 177,
     "metadata": {},
     "output_type": "execute_result"
    }
   ],
   "source": [
    "ary_in\n"
   ]
  },
  {
   "cell_type": "code",
   "execution_count": 178,
   "metadata": {},
   "outputs": [
    {
     "data": {
      "text/plain": [
       "1"
      ]
     },
     "execution_count": 178,
     "metadata": {},
     "output_type": "execute_result"
    }
   ],
   "source": [
    "cat_model.predict(ary_in)[0]"
   ]
  },
  {
   "cell_type": "code",
   "execution_count": 181,
   "metadata": {},
   "outputs": [],
   "source": [
    "from sklearn.metrics import classification_report , confusion_matrix"
   ]
  },
  {
   "cell_type": "code",
   "execution_count": 182,
   "metadata": {},
   "outputs": [
    {
     "name": "stdout",
     "output_type": "stream",
     "text": [
      "              precision    recall  f1-score   support\n",
      "\n",
      "           0       1.00      0.01      0.02       110\n",
      "           1       0.39      1.00      0.56        69\n",
      "\n",
      "    accuracy                           0.39       179\n",
      "   macro avg       0.69      0.50      0.29       179\n",
      "weighted avg       0.76      0.39      0.23       179\n",
      "\n"
     ]
    }
   ],
   "source": [
    "print(classification_report(y_test, cat_predict))"
   ]
  },
  {
   "cell_type": "code",
   "execution_count": 183,
   "metadata": {},
   "outputs": [
    {
     "name": "stdout",
     "output_type": "stream",
     "text": [
      "[[  1 109]\n",
      " [  0  69]]\n"
     ]
    }
   ],
   "source": [
    "print(confusion_matrix(y_test,cat_predict))"
   ]
  },
  {
   "cell_type": "code",
   "execution_count": 244,
   "metadata": {},
   "outputs": [],
   "source": [
    "from sklearn.linear_model import LogisticRegressionCV\n",
    "log=LogisticRegressionCV(random_state=2,solver='liblinear')"
   ]
  },
  {
   "cell_type": "code",
   "execution_count": 245,
   "metadata": {},
   "outputs": [
    {
     "data": {
      "text/plain": [
       "LogisticRegressionCV(random_state=2, solver='liblinear')"
      ]
     },
     "execution_count": 245,
     "metadata": {},
     "output_type": "execute_result"
    }
   ],
   "source": [
    "log.fit(X_train,y_train)"
   ]
  },
  {
   "cell_type": "code",
   "execution_count": 246,
   "metadata": {},
   "outputs": [],
   "source": [
    "log_model=log.predict(X_test)"
   ]
  },
  {
   "cell_type": "code",
   "execution_count": 247,
   "metadata": {},
   "outputs": [
    {
     "data": {
      "text/plain": [
       "array([0, 0, 0, 0, 1, 0, 1, 1, 0, 0, 0, 1, 0, 0, 1, 1, 0, 0, 0, 0, 0, 0,\n",
       "       0, 1, 1, 0, 0, 1, 1, 0, 0, 1, 0, 0, 0, 1, 0, 1, 0, 0, 0, 1, 0, 1,\n",
       "       1, 1, 0, 0, 0, 1, 0, 0, 1, 0, 1, 1, 1, 0, 0, 0, 0, 0, 1, 0, 1, 1,\n",
       "       0, 0, 1, 0, 1, 0, 1, 0, 1, 0, 1, 0, 0, 1, 0, 1, 1, 0, 0, 0, 0, 0,\n",
       "       0, 1, 0, 0, 1, 1, 1, 0, 0, 1, 0, 1, 0, 1, 0, 1, 0, 1, 0, 1, 0, 0,\n",
       "       0, 0, 0, 1, 1, 0, 1, 1, 1, 1, 0, 0, 0, 1, 1, 0, 0, 1, 0, 0, 1, 0,\n",
       "       0, 0, 1, 0, 0, 0, 0, 0, 0, 0, 0, 0, 1, 1, 0, 1, 0, 0, 0, 0, 0, 0,\n",
       "       0, 0, 0, 0, 0, 0, 1, 1, 0, 1, 1, 0, 0, 1, 0, 1, 1, 0, 0, 0, 0, 0,\n",
       "       0, 0, 0], dtype=int64)"
      ]
     },
     "execution_count": 247,
     "metadata": {},
     "output_type": "execute_result"
    }
   ],
   "source": [
    "log_model"
   ]
  },
  {
   "cell_type": "code",
   "execution_count": 248,
   "metadata": {},
   "outputs": [
    {
     "name": "stderr",
     "output_type": "stream",
     "text": [
      "C:\\ProgramData\\Anaconda3\\lib\\site-packages\\seaborn\\_decorators.py:36: FutureWarning: Pass the following variable as a keyword arg: x. From version 0.12, the only valid positional argument will be `data`, and passing other arguments without an explicit keyword will result in an error or misinterpretation.\n",
      "  warnings.warn(\n"
     ]
    },
    {
     "data": {
      "text/plain": [
       "<AxesSubplot:ylabel='count'>"
      ]
     },
     "execution_count": 248,
     "metadata": {},
     "output_type": "execute_result"
    },
    {
     "data": {
      "image/png": "[encoded data removed]",
      "text/plain": [
       "<Figure size 432x288 with 1 Axes>"
      ]
     },
     "metadata": {},
     "output_type": "display_data"
    }
   ],
   "source": [
    "sns.countplot(log_model)"
   ]
  },
  {
   "cell_type": "code",
   "execution_count": 249,
   "metadata": {},
   "outputs": [
    {
     "name": "stdout",
     "output_type": "stream",
     "text": [
      "              precision    recall  f1-score   support\n",
      "\n",
      "           0       0.82      0.85      0.84       110\n",
      "           1       0.75      0.70      0.72        69\n",
      "\n",
      "    accuracy                           0.79       179\n",
      "   macro avg       0.78      0.78      0.78       179\n",
      "weighted avg       0.79      0.79      0.79       179\n",
      "\n"
     ]
    }
   ],
   "source": [
    "print(classification_report(y_test,log_model))"
   ]
  },
  {
   "cell_type": "code",
   "execution_count": 250,
   "metadata": {},
   "outputs": [
    {
     "name": "stdout",
     "output_type": "stream",
     "text": [
      "[[94 16]\n",
      " [21 48]]\n"
     ]
    }
   ],
   "source": [
    "print(confusion_matrix(y_test,log_model))"
   ]
  },
  {
   "cell_type": "code",
   "execution_count": 251,
   "metadata": {},
   "outputs": [
    {
     "data": {
      "text/html": [
       "<div>\n",
       "<style scoped>\n",
       "    .dataframe tbody tr th:only-of-type {\n",
       "        vertical-align: middle;\n",
       "    }\n",
       "\n",
       "    .dataframe tbody tr th {\n",
       "        vertical-align: top;\n",
       "    }\n",
       "\n",
       "    .dataframe thead th {\n",
       "        text-align: right;\n",
       "    }\n",
       "</style>\n",
       "<table border=\"1\" class=\"dataframe\">\n",
       "  <thead>\n",
       "    <tr style=\"text-align: right;\">\n",
       "      <th></th>\n",
       "      <th>PassengerId</th>\n",
       "      <th>Survived</th>\n",
       "      <th>Pclass</th>\n",
       "      <th>Name</th>\n",
       "      <th>Sex</th>\n",
       "      <th>Age</th>\n",
       "      <th>SibSp</th>\n",
       "      <th>Parch</th>\n",
       "      <th>Ticket</th>\n",
       "      <th>Fare</th>\n",
       "      <th>Cabin</th>\n",
       "      <th>Embarked</th>\n",
       "      <th>(Age,)</th>\n",
       "    </tr>\n",
       "  </thead>\n",
       "  <tbody>\n",
       "    <tr>\n",
       "      <th>494</th>\n",
       "      <td>495</td>\n",
       "      <td>0</td>\n",
       "      <td>3</td>\n",
       "      <td>Stanley, Mr. Edward Roland</td>\n",
       "      <td>male</td>\n",
       "      <td>21.0</td>\n",
       "      <td>0</td>\n",
       "      <td>0</td>\n",
       "      <td>A/4 45380</td>\n",
       "      <td>8.05</td>\n",
       "      <td>NaN</td>\n",
       "      <td>S</td>\n",
       "      <td>NaN</td>\n",
       "    </tr>\n",
       "  </tbody>\n",
       "</table>\n",
       "</div>"
      ],
      "text/plain": [
       "     PassengerId  Survived  Pclass                        Name   Sex   Age  \\\n",
       "494          495         0       3  Stanley, Mr. Edward Roland  male  21.0   \n",
       "\n",
       "     SibSp  Parch     Ticket  Fare Cabin Embarked  (Age,)  \n",
       "494      0      0  A/4 45380  8.05   NaN        S     NaN  "
      ]
     },
     "execution_count": 251,
     "metadata": {},
     "output_type": "execute_result"
    }
   ],
   "source": [
    "data[data['PassengerId']==495]"
   ]
  },
  {
   "cell_type": "code",
   "execution_count": 252,
   "metadata": {},
   "outputs": [
    {
     "data": {
      "text/html": [
       "<div>\n",
       "<style scoped>\n",
       "    .dataframe tbody tr th:only-of-type {\n",
       "        vertical-align: middle;\n",
       "    }\n",
       "\n",
       "    .dataframe tbody tr th {\n",
       "        vertical-align: top;\n",
       "    }\n",
       "\n",
       "    .dataframe thead th {\n",
       "        text-align: right;\n",
       "    }\n",
       "</style>\n",
       "<table border=\"1\" class=\"dataframe\">\n",
       "  <thead>\n",
       "    <tr style=\"text-align: right;\">\n",
       "      <th></th>\n",
       "      <th>Pclass</th>\n",
       "      <th>Sex</th>\n",
       "      <th>Age</th>\n",
       "      <th>SibSp</th>\n",
       "      <th>Parch</th>\n",
       "      <th>Fare</th>\n",
       "      <th>Q_cabin</th>\n",
       "      <th>S_cabin</th>\n",
       "    </tr>\n",
       "  </thead>\n",
       "  <tbody>\n",
       "    <tr>\n",
       "      <th>196</th>\n",
       "      <td>3</td>\n",
       "      <td>1</td>\n",
       "      <td>38.2</td>\n",
       "      <td>0</td>\n",
       "      <td>0</td>\n",
       "      <td>7.75</td>\n",
       "      <td>1</td>\n",
       "      <td>0</td>\n",
       "    </tr>\n",
       "  </tbody>\n",
       "</table>\n",
       "</div>"
      ],
      "text/plain": [
       "     Pclass  Sex   Age  SibSp  Parch  Fare  Q_cabin  S_cabin\n",
       "196       3    1  38.2      0      0  7.75        1        0"
      ]
     },
     "execution_count": 252,
     "metadata": {},
     "output_type": "execute_result"
    }
   ],
   "source": [
    "data_x.sample()"
   ]
  },
  {
   "cell_type": "code",
   "execution_count": 253,
   "metadata": {},
   "outputs": [],
   "source": [
    "input=(3,1,38.2,0,0,14.4583,0,0)\n",
    "input_ary=np.asarray(input)\n",
    "in_shp=input_ary.reshape(1,-1)"
   ]
  },
  {
   "cell_type": "code",
   "execution_count": 254,
   "metadata": {},
   "outputs": [
    {
     "data": {
      "text/plain": [
       "LogisticRegressionCV(random_state=2, solver='liblinear')"
      ]
     },
     "execution_count": 254,
     "metadata": {},
     "output_type": "execute_result"
    }
   ],
   "source": [
    "log"
   ]
  },
  {
   "cell_type": "code",
   "execution_count": null,
   "metadata": {},
   "outputs": [],
   "source": []
  },
  {
   "cell_type": "code",
   "execution_count": 255,
   "metadata": {},
   "outputs": [
    {
     "data": {
      "text/plain": [
       "array([0], dtype=int64)"
      ]
     },
     "execution_count": 255,
     "metadata": {},
     "output_type": "execute_result"
    }
   ],
   "source": [
    "log.predict(in_shp)"
   ]
  },
  {
   "cell_type": "code",
   "execution_count": 256,
   "metadata": {},
   "outputs": [],
   "source": [
    "import pickle as pk"
   ]
  },
  {
   "cell_type": "code",
   "execution_count": 257,
   "metadata": {},
   "outputs": [],
   "source": [
    "model_log=open('model_logistic.pkl','wb')\n"
   ]
  },
  {
   "cell_type": "code",
   "execution_count": 243,
   "metadata": {},
   "outputs": [
    {
     "data": {
      "text/plain": [
       "LogisticRegressionCV(random_state=2)"
      ]
     },
     "execution_count": 243,
     "metadata": {},
     "output_type": "execute_result"
    }
   ],
   "source": [
    "log"
   ]
  },
  {
   "cell_type": "code",
   "execution_count": 262,
   "metadata": {},
   "outputs": [],
   "source": [
    "pk.dump(log,model_log)"
   ]
  },
  {
   "cell_type": "code",
   "execution_count": 260,
   "metadata": {},
   "outputs": [
    {
     "data": {
      "text/plain": [
       "RandomizedSearchCV(estimator=RandomForestRegressor(),\n",
       "                   param_distributions={'max_depth': [5, 10, 15, 20, 25, 30],\n",
       "                                        'max_features': ['auto', 'sqrt'],\n",
       "                                        'min_samples_leaf': [1, 2, 5, 10],\n",
       "                                        'min_samples_split': [2, 5, 20, 100],\n",
       "                                        'n_estimators': [100, 200, 300, 400,\n",
       "                                                         500, 600, 700, 800,\n",
       "                                                         900, 1000, 1100,\n",
       "                                                         1200]},\n",
       "                   verbose=3)"
      ]
     },
     "execution_count": 260,
     "metadata": {},
     "output_type": "execute_result"
    }
   ],
   "source": [
    "pk.load(open('Random_Forest_Model.pkl','rb'))"
   ]
  },
  {
   "cell_type": "code",
   "execution_count": 265,
   "metadata": {},
   "outputs": [
    {
     "data": {
      "text/plain": [
       "LogisticRegressionCV(random_state=2, solver='liblinear')"
      ]
     },
     "execution_count": 265,
     "metadata": {},
     "output_type": "execute_result"
    }
   ],
   "source": [
    "pk.load(open('model_logistic.pkl','rb'))"
   ]
  },
  {
   "cell_type": "code",
   "execution_count": 277,
   "metadata": {},
   "outputs": [],
   "source": [
    "dat=pk.load(open('model_logistic.pkl','rb'))"
   ]
  },
  {
   "cell_type": "code",
   "execution_count": 269,
   "metadata": {},
   "outputs": [
    {
     "data": {
      "text/html": [
       "<div>\n",
       "<style scoped>\n",
       "    .dataframe tbody tr th:only-of-type {\n",
       "        vertical-align: middle;\n",
       "    }\n",
       "\n",
       "    .dataframe tbody tr th {\n",
       "        vertical-align: top;\n",
       "    }\n",
       "\n",
       "    .dataframe thead th {\n",
       "        text-align: right;\n",
       "    }\n",
       "</style>\n",
       "<table border=\"1\" class=\"dataframe\">\n",
       "  <thead>\n",
       "    <tr style=\"text-align: right;\">\n",
       "      <th></th>\n",
       "      <th>Pclass</th>\n",
       "      <th>Sex</th>\n",
       "      <th>Age</th>\n",
       "      <th>SibSp</th>\n",
       "      <th>Parch</th>\n",
       "      <th>Fare</th>\n",
       "      <th>Q_cabin</th>\n",
       "      <th>S_cabin</th>\n",
       "    </tr>\n",
       "  </thead>\n",
       "  <tbody>\n",
       "    <tr>\n",
       "      <th>0</th>\n",
       "      <td>3</td>\n",
       "      <td>1</td>\n",
       "      <td>22.0</td>\n",
       "      <td>1</td>\n",
       "      <td>0</td>\n",
       "      <td>7.2500</td>\n",
       "      <td>0</td>\n",
       "      <td>1</td>\n",
       "    </tr>\n",
       "    <tr>\n",
       "      <th>1</th>\n",
       "      <td>1</td>\n",
       "      <td>0</td>\n",
       "      <td>38.0</td>\n",
       "      <td>1</td>\n",
       "      <td>0</td>\n",
       "      <td>71.2833</td>\n",
       "      <td>0</td>\n",
       "      <td>0</td>\n",
       "    </tr>\n",
       "    <tr>\n",
       "      <th>2</th>\n",
       "      <td>3</td>\n",
       "      <td>0</td>\n",
       "      <td>26.0</td>\n",
       "      <td>0</td>\n",
       "      <td>0</td>\n",
       "      <td>7.9250</td>\n",
       "      <td>0</td>\n",
       "      <td>1</td>\n",
       "    </tr>\n",
       "    <tr>\n",
       "      <th>3</th>\n",
       "      <td>1</td>\n",
       "      <td>0</td>\n",
       "      <td>35.0</td>\n",
       "      <td>1</td>\n",
       "      <td>0</td>\n",
       "      <td>53.1000</td>\n",
       "      <td>0</td>\n",
       "      <td>1</td>\n",
       "    </tr>\n",
       "    <tr>\n",
       "      <th>4</th>\n",
       "      <td>3</td>\n",
       "      <td>1</td>\n",
       "      <td>35.0</td>\n",
       "      <td>0</td>\n",
       "      <td>0</td>\n",
       "      <td>8.0500</td>\n",
       "      <td>0</td>\n",
       "      <td>1</td>\n",
       "    </tr>\n",
       "  </tbody>\n",
       "</table>\n",
       "</div>"
      ],
      "text/plain": [
       "   Pclass  Sex   Age  SibSp  Parch     Fare  Q_cabin  S_cabin\n",
       "0       3    1  22.0      1      0   7.2500        0        1\n",
       "1       1    0  38.0      1      0  71.2833        0        0\n",
       "2       3    0  26.0      0      0   7.9250        0        1\n",
       "3       1    0  35.0      1      0  53.1000        0        1\n",
       "4       3    1  35.0      0      0   8.0500        0        1"
      ]
     },
     "execution_count": 269,
     "metadata": {},
     "output_type": "execute_result"
    }
   ],
   "source": [
    "data_x.head()"
   ]
  },
  {
   "cell_type": "code",
   "execution_count": 271,
   "metadata": {},
   "outputs": [
    {
     "name": "stderr",
     "output_type": "stream",
     "text": [
      "C:\\ProgramData\\Anaconda3\\lib\\site-packages\\seaborn\\_decorators.py:36: FutureWarning: Pass the following variable as a keyword arg: x. From version 0.12, the only valid positional argument will be `data`, and passing other arguments without an explicit keyword will result in an error or misinterpretation.\n",
      "  warnings.warn(\n"
     ]
    },
    {
     "data": {
      "text/plain": [
       "<AxesSubplot:xlabel='SibSp', ylabel='count'>"
      ]
     },
     "execution_count": 271,
     "metadata": {},
     "output_type": "execute_result"
    },
    {
     "data": {
      "image/png": "[encoded data removed]",
      "text/plain": [
       "<Figure size 432x288 with 1 Axes>"
      ]
     },
     "metadata": {},
     "output_type": "display_data"
    }
   ],
   "source": [
    "sns.countplot(data['SibSp'])"
   ]
  },
  {
   "cell_type": "code",
   "execution_count": 273,
   "metadata": {},
   "outputs": [
    {
     "name": "stderr",
     "output_type": "stream",
     "text": [
      "C:\\ProgramData\\Anaconda3\\lib\\site-packages\\seaborn\\_decorators.py:36: FutureWarning: Pass the following variable as a keyword arg: x. From version 0.12, the only valid positional argument will be `data`, and passing other arguments without an explicit keyword will result in an error or misinterpretation.\n",
      "  warnings.warn(\n"
     ]
    },
    {
     "data": {
      "text/plain": [
       "<AxesSubplot:xlabel='Parch', ylabel='count'>"
      ]
     },
     "execution_count": 273,
     "metadata": {},
     "output_type": "execute_result"
    },
    {
     "data": {
      "image/png": "[encoded data removed]",
      "text/plain": [
       "<Figure size 432x288 with 1 Axes>"
      ]
     },
     "metadata": {},
     "output_type": "display_data"
    }
   ],
   "source": [
    "sns.countplot(data_x['Parch'])"
   ]
  },
  {
   "cell_type": "code",
   "execution_count": 274,
   "metadata": {},
   "outputs": [
    {
     "name": "stderr",
     "output_type": "stream",
     "text": [
      "C:\\ProgramData\\Anaconda3\\lib\\site-packages\\seaborn\\_decorators.py:36: FutureWarning: Pass the following variable as a keyword arg: x. From version 0.12, the only valid positional argument will be `data`, and passing other arguments without an explicit keyword will result in an error or misinterpretation.\n",
      "  warnings.warn(\n"
     ]
    },
    {
     "data": {
      "text/plain": [
       "<AxesSubplot:xlabel='Q_cabin', ylabel='count'>"
      ]
     },
     "execution_count": 274,
     "metadata": {},
     "output_type": "execute_result"
    },
    {
     "data": {
      "image/png": "[encoded data removed]",
      "text/plain": [
       "<Figure size 432x288 with 1 Axes>"
      ]
     },
     "metadata": {},
     "output_type": "display_data"
    }
   ],
   "source": [
    "sns.countplot(data_x['Q_cabin'])"
   ]
  },
  {
   "cell_type": "code",
   "execution_count": 275,
   "metadata": {},
   "outputs": [
    {
     "data": {
      "text/html": [
       "<div>\n",
       "<style scoped>\n",
       "    .dataframe tbody tr th:only-of-type {\n",
       "        vertical-align: middle;\n",
       "    }\n",
       "\n",
       "    .dataframe tbody tr th {\n",
       "        vertical-align: top;\n",
       "    }\n",
       "\n",
       "    .dataframe thead th {\n",
       "        text-align: right;\n",
       "    }\n",
       "</style>\n",
       "<table border=\"1\" class=\"dataframe\">\n",
       "  <thead>\n",
       "    <tr style=\"text-align: right;\">\n",
       "      <th></th>\n",
       "      <th>Pclass</th>\n",
       "      <th>Sex</th>\n",
       "      <th>Age</th>\n",
       "      <th>SibSp</th>\n",
       "      <th>Parch</th>\n",
       "      <th>Fare</th>\n",
       "      <th>Q_cabin</th>\n",
       "      <th>S_cabin</th>\n",
       "    </tr>\n",
       "  </thead>\n",
       "  <tbody>\n",
       "    <tr>\n",
       "      <th>0</th>\n",
       "      <td>3</td>\n",
       "      <td>1</td>\n",
       "      <td>22.0</td>\n",
       "      <td>1</td>\n",
       "      <td>0</td>\n",
       "      <td>7.2500</td>\n",
       "      <td>0</td>\n",
       "      <td>1</td>\n",
       "    </tr>\n",
       "    <tr>\n",
       "      <th>1</th>\n",
       "      <td>1</td>\n",
       "      <td>0</td>\n",
       "      <td>38.0</td>\n",
       "      <td>1</td>\n",
       "      <td>0</td>\n",
       "      <td>71.2833</td>\n",
       "      <td>0</td>\n",
       "      <td>0</td>\n",
       "    </tr>\n",
       "    <tr>\n",
       "      <th>2</th>\n",
       "      <td>3</td>\n",
       "      <td>0</td>\n",
       "      <td>26.0</td>\n",
       "      <td>0</td>\n",
       "      <td>0</td>\n",
       "      <td>7.9250</td>\n",
       "      <td>0</td>\n",
       "      <td>1</td>\n",
       "    </tr>\n",
       "    <tr>\n",
       "      <th>3</th>\n",
       "      <td>1</td>\n",
       "      <td>0</td>\n",
       "      <td>35.0</td>\n",
       "      <td>1</td>\n",
       "      <td>0</td>\n",
       "      <td>53.1000</td>\n",
       "      <td>0</td>\n",
       "      <td>1</td>\n",
       "    </tr>\n",
       "    <tr>\n",
       "      <th>4</th>\n",
       "      <td>3</td>\n",
       "      <td>1</td>\n",
       "      <td>35.0</td>\n",
       "      <td>0</td>\n",
       "      <td>0</td>\n",
       "      <td>8.0500</td>\n",
       "      <td>0</td>\n",
       "      <td>1</td>\n",
       "    </tr>\n",
       "  </tbody>\n",
       "</table>\n",
       "</div>"
      ],
      "text/plain": [
       "   Pclass  Sex   Age  SibSp  Parch     Fare  Q_cabin  S_cabin\n",
       "0       3    1  22.0      1      0   7.2500        0        1\n",
       "1       1    0  38.0      1      0  71.2833        0        0\n",
       "2       3    0  26.0      0      0   7.9250        0        1\n",
       "3       1    0  35.0      1      0  53.1000        0        1\n",
       "4       3    1  35.0      0      0   8.0500        0        1"
      ]
     },
     "execution_count": 275,
     "metadata": {},
     "output_type": "execute_result"
    }
   ],
   "source": [
    "data_x.head()"
   ]
  },
  {
   "cell_type": "code",
   "execution_count": 276,
   "metadata": {},
   "outputs": [
    {
     "data": {
      "text/plain": [
       "LogisticRegressionCV(random_state=2, solver='liblinear')"
      ]
     },
     "execution_count": 276,
     "metadata": {},
     "output_type": "execute_result"
    }
   ],
   "source": [
    "log"
   ]
  },
  {
   "cell_type": "code",
   "execution_count": 303,
   "metadata": {},
   "outputs": [],
   "source": [
    "inp=(1 ,0 ,38.0 ,1, 0 ,71.2833 ,0 ,0)\n",
    "inp_rs=np.asarray(inp).reshape(1,-1)"
   ]
  },
  {
   "cell_type": "code",
   "execution_count": 304,
   "metadata": {},
   "outputs": [
    {
     "data": {
      "text/plain": [
       "8.591642266967092"
      ]
     },
     "execution_count": 304,
     "metadata": {},
     "output_type": "execute_result"
    }
   ],
   "source": [
    "dat.predict_proba(inp_rs)[0][0] * 100"
   ]
  },
  {
   "cell_type": "code",
   "execution_count": 306,
   "metadata": {},
   "outputs": [
    {
     "data": {
      "text/plain": [
       "array([[ 8.59164227, 91.40835773]])"
      ]
     },
     "execution_count": 306,
     "metadata": {},
     "output_type": "execute_result"
    }
   ],
   "source": [
    "dat.predict_proba(inp_rs) * 100"
   ]
  },
  {
   "cell_type": "code",
   "execution_count": 308,
   "metadata": {},
   "outputs": [
    {
     "data": {
      "text/plain": [
       "array([1], dtype=int64)"
      ]
     },
     "execution_count": 308,
     "metadata": {},
     "output_type": "execute_result"
    }
   ],
   "source": [
    "dat.predict(inp_rs)"
   ]
  },
  {
   "cell_type": "code",
   "execution_count": 287,
   "metadata": {},
   "outputs": [
    {
     "data": {
      "text/html": [
       "<div>\n",
       "<style scoped>\n",
       "    .dataframe tbody tr th:only-of-type {\n",
       "        vertical-align: middle;\n",
       "    }\n",
       "\n",
       "    .dataframe tbody tr th {\n",
       "        vertical-align: top;\n",
       "    }\n",
       "\n",
       "    .dataframe thead th {\n",
       "        text-align: right;\n",
       "    }\n",
       "</style>\n",
       "<table border=\"1\" class=\"dataframe\">\n",
       "  <thead>\n",
       "    <tr style=\"text-align: right;\">\n",
       "      <th></th>\n",
       "      <th>PassengerId</th>\n",
       "      <th>Survived</th>\n",
       "      <th>Pclass</th>\n",
       "      <th>Name</th>\n",
       "      <th>Sex</th>\n",
       "      <th>Age</th>\n",
       "      <th>SibSp</th>\n",
       "      <th>Parch</th>\n",
       "      <th>Ticket</th>\n",
       "      <th>Fare</th>\n",
       "      <th>Cabin</th>\n",
       "      <th>Embarked</th>\n",
       "      <th>(Age,)</th>\n",
       "    </tr>\n",
       "  </thead>\n",
       "  <tbody>\n",
       "    <tr>\n",
       "      <th>0</th>\n",
       "      <td>1</td>\n",
       "      <td>0</td>\n",
       "      <td>3</td>\n",
       "      <td>Braund, Mr. Owen Harris</td>\n",
       "      <td>male</td>\n",
       "      <td>22.0</td>\n",
       "      <td>1</td>\n",
       "      <td>0</td>\n",
       "      <td>A/5 21171</td>\n",
       "      <td>7.2500</td>\n",
       "      <td>NaN</td>\n",
       "      <td>S</td>\n",
       "      <td>NaN</td>\n",
       "    </tr>\n",
       "    <tr>\n",
       "      <th>1</th>\n",
       "      <td>2</td>\n",
       "      <td>1</td>\n",
       "      <td>1</td>\n",
       "      <td>Cumings, Mrs. John Bradley (Florence Briggs Th...</td>\n",
       "      <td>female</td>\n",
       "      <td>38.0</td>\n",
       "      <td>1</td>\n",
       "      <td>0</td>\n",
       "      <td>PC 17599</td>\n",
       "      <td>71.2833</td>\n",
       "      <td>C85</td>\n",
       "      <td>C</td>\n",
       "      <td>NaN</td>\n",
       "    </tr>\n",
       "    <tr>\n",
       "      <th>2</th>\n",
       "      <td>3</td>\n",
       "      <td>1</td>\n",
       "      <td>3</td>\n",
       "      <td>Heikkinen, Miss. Laina</td>\n",
       "      <td>female</td>\n",
       "      <td>26.0</td>\n",
       "      <td>0</td>\n",
       "      <td>0</td>\n",
       "      <td>STON/O2. 3101282</td>\n",
       "      <td>7.9250</td>\n",
       "      <td>NaN</td>\n",
       "      <td>S</td>\n",
       "      <td>NaN</td>\n",
       "    </tr>\n",
       "    <tr>\n",
       "      <th>3</th>\n",
       "      <td>4</td>\n",
       "      <td>1</td>\n",
       "      <td>1</td>\n",
       "      <td>Futrelle, Mrs. Jacques Heath (Lily May Peel)</td>\n",
       "      <td>female</td>\n",
       "      <td>35.0</td>\n",
       "      <td>1</td>\n",
       "      <td>0</td>\n",
       "      <td>113803</td>\n",
       "      <td>53.1000</td>\n",
       "      <td>C123</td>\n",
       "      <td>S</td>\n",
       "      <td>NaN</td>\n",
       "    </tr>\n",
       "    <tr>\n",
       "      <th>4</th>\n",
       "      <td>5</td>\n",
       "      <td>0</td>\n",
       "      <td>3</td>\n",
       "      <td>Allen, Mr. William Henry</td>\n",
       "      <td>male</td>\n",
       "      <td>35.0</td>\n",
       "      <td>0</td>\n",
       "      <td>0</td>\n",
       "      <td>373450</td>\n",
       "      <td>8.0500</td>\n",
       "      <td>NaN</td>\n",
       "      <td>S</td>\n",
       "      <td>NaN</td>\n",
       "    </tr>\n",
       "  </tbody>\n",
       "</table>\n",
       "</div>"
      ],
      "text/plain": [
       "   PassengerId  Survived  Pclass  \\\n",
       "0            1         0       3   \n",
       "1            2         1       1   \n",
       "2            3         1       3   \n",
       "3            4         1       1   \n",
       "4            5         0       3   \n",
       "\n",
       "                                                Name     Sex   Age  SibSp  \\\n",
       "0                            Braund, Mr. Owen Harris    male  22.0      1   \n",
       "1  Cumings, Mrs. John Bradley (Florence Briggs Th...  female  38.0      1   \n",
       "2                             Heikkinen, Miss. Laina  female  26.0      0   \n",
       "3       Futrelle, Mrs. Jacques Heath (Lily May Peel)  female  35.0      1   \n",
       "4                           Allen, Mr. William Henry    male  35.0      0   \n",
       "\n",
       "   Parch            Ticket     Fare Cabin Embarked  (Age,)  \n",
       "0      0         A/5 21171   7.2500   NaN        S     NaN  \n",
       "1      0          PC 17599  71.2833   C85        C     NaN  \n",
       "2      0  STON/O2. 3101282   7.9250   NaN        S     NaN  \n",
       "3      0            113803  53.1000  C123        S     NaN  \n",
       "4      0            373450   8.0500   NaN        S     NaN  "
      ]
     },
     "execution_count": 287,
     "metadata": {},
     "output_type": "execute_result"
    }
   ],
   "source": [
    "data.head()"
   ]
  },
  {
   "cell_type": "code",
   "execution_count": 301,
   "metadata": {},
   "outputs": [
    {
     "data": {
      "text/html": [
       "<div>\n",
       "<style scoped>\n",
       "    .dataframe tbody tr th:only-of-type {\n",
       "        vertical-align: middle;\n",
       "    }\n",
       "\n",
       "    .dataframe tbody tr th {\n",
       "        vertical-align: top;\n",
       "    }\n",
       "\n",
       "    .dataframe thead th {\n",
       "        text-align: right;\n",
       "    }\n",
       "</style>\n",
       "<table border=\"1\" class=\"dataframe\">\n",
       "  <thead>\n",
       "    <tr style=\"text-align: right;\">\n",
       "      <th></th>\n",
       "      <th>Pclass</th>\n",
       "      <th>Sex</th>\n",
       "      <th>Age</th>\n",
       "      <th>SibSp</th>\n",
       "      <th>Parch</th>\n",
       "      <th>Fare</th>\n",
       "      <th>Q_cabin</th>\n",
       "      <th>S_cabin</th>\n",
       "    </tr>\n",
       "  </thead>\n",
       "  <tbody>\n",
       "    <tr>\n",
       "      <th>0</th>\n",
       "      <td>3</td>\n",
       "      <td>1</td>\n",
       "      <td>22.0</td>\n",
       "      <td>1</td>\n",
       "      <td>0</td>\n",
       "      <td>7.2500</td>\n",
       "      <td>0</td>\n",
       "      <td>1</td>\n",
       "    </tr>\n",
       "    <tr>\n",
       "      <th>1</th>\n",
       "      <td>1</td>\n",
       "      <td>0</td>\n",
       "      <td>38.0</td>\n",
       "      <td>1</td>\n",
       "      <td>0</td>\n",
       "      <td>71.2833</td>\n",
       "      <td>0</td>\n",
       "      <td>0</td>\n",
       "    </tr>\n",
       "    <tr>\n",
       "      <th>2</th>\n",
       "      <td>3</td>\n",
       "      <td>0</td>\n",
       "      <td>26.0</td>\n",
       "      <td>0</td>\n",
       "      <td>0</td>\n",
       "      <td>7.9250</td>\n",
       "      <td>0</td>\n",
       "      <td>1</td>\n",
       "    </tr>\n",
       "    <tr>\n",
       "      <th>3</th>\n",
       "      <td>1</td>\n",
       "      <td>0</td>\n",
       "      <td>35.0</td>\n",
       "      <td>1</td>\n",
       "      <td>0</td>\n",
       "      <td>53.1000</td>\n",
       "      <td>0</td>\n",
       "      <td>1</td>\n",
       "    </tr>\n",
       "    <tr>\n",
       "      <th>4</th>\n",
       "      <td>3</td>\n",
       "      <td>1</td>\n",
       "      <td>35.0</td>\n",
       "      <td>0</td>\n",
       "      <td>0</td>\n",
       "      <td>8.0500</td>\n",
       "      <td>0</td>\n",
       "      <td>1</td>\n",
       "    </tr>\n",
       "  </tbody>\n",
       "</table>\n",
       "</div>"
      ],
      "text/plain": [
       "   Pclass  Sex   Age  SibSp  Parch     Fare  Q_cabin  S_cabin\n",
       "0       3    1  22.0      1      0   7.2500        0        1\n",
       "1       1    0  38.0      1      0  71.2833        0        0\n",
       "2       3    0  26.0      0      0   7.9250        0        1\n",
       "3       1    0  35.0      1      0  53.1000        0        1\n",
       "4       3    1  35.0      0      0   8.0500        0        1"
      ]
     },
     "execution_count": 301,
     "metadata": {},
     "output_type": "execute_result"
    }
   ],
   "source": [
    "data_x.head()"
   ]
  },
  {
   "cell_type": "code",
   "execution_count": 5,
   "metadata": {},
   "outputs": [],
   "source": [
    "def ab(a,b):\n",
    "    return a + b , a-b\n",
    "    "
   ]
  },
  {
   "cell_type": "code",
   "execution_count": null,
   "metadata": {},
   "outputs": [],
   "source": []
  },
  {
   "cell_type": "code",
   "execution_count": null,
   "metadata": {},
   "outputs": [],
   "source": []
  },
  {
   "cell_type": "code",
   "execution_count": null,
   "metadata": {},
   "outputs": [],
   "source": []
  },
  {
   "cell_type": "code",
   "execution_count": null,
   "metadata": {},
   "outputs": [],
   "source": []
  }
 ],
 "metadata": {
  "kernelspec": {
   "display_name": "Python 3",
   "language": "python",
   "name": "python3"
  },
  "language_info": {
   "codemirror_mode": {
    "name": "ipython",
    "version": 3
   },
   "file_extension": ".py",
   "mimetype": "text/x-python",
   "name": "python",
   "nbconvert_exporter": "python",
   "pygments_lexer": "ipython3",
   "version": "3.8.5"
  }
 },
 "nbformat": 4,
 "nbformat_minor": 4
}
